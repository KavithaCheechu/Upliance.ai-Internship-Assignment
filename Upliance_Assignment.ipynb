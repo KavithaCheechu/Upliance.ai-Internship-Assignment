{
  "nbformat": 4,
  "nbformat_minor": 0,
  "metadata": {
    "colab": {
      "provenance": [],
      "authorship_tag": "ABX9TyMXM7//MfcgUPeYupwSPl/C",
      "include_colab_link": true
    },
    "kernelspec": {
      "name": "python3",
      "display_name": "Python 3"
    },
    "language_info": {
      "name": "python"
    }
  },
  "cells": [
    {
      "cell_type": "markdown",
      "metadata": {
        "id": "view-in-github",
        "colab_type": "text"
      },
      "source": [
        "<a href=\"https://colab.research.google.com/github/KavithaCheechu/Upliance.ai-Internship-Assignment/blob/main/Upliance_Assignment.ipynb\" target=\"_parent\"><img src=\"https://colab.research.google.com/assets/colab-badge.svg\" alt=\"Open In Colab\"/></a>"
      ]
    },
    {
      "cell_type": "markdown",
      "source": [
        "# Insights into Global Online Retail E-commerce"
      ],
      "metadata": {
        "id": "hkGkPW2HxOqK"
      }
    },
    {
      "cell_type": "markdown",
      "source": [
        "**Exploring and understanding E-commerce Dynamics-**\n",
        "\n",
        "**Uncovering cancellation trends, identifying popular products, and discovering peak buying times across diverse regions in the online retail sector.**"
      ],
      "metadata": {
        "id": "ZDVJhT7F0aKC"
      }
    },
    {
      "cell_type": "code",
      "execution_count": 300,
      "metadata": {
        "id": "dwMt5qP_AQzm"
      },
      "outputs": [],
      "source": [
        "import pandas as pd\n",
        "import numpy as np\n",
        "import seaborn as sns\n",
        "import matplotlib.pyplot as plt"
      ]
    },
    {
      "cell_type": "markdown",
      "source": [
        "Reading the Dataset"
      ],
      "metadata": {
        "id": "rkV5BfxoxSqd"
      }
    },
    {
      "cell_type": "code",
      "source": [
        "df = pd.read_excel(\"/content/Data Analyst Intern Assignment.xlsx\")"
      ],
      "metadata": {
        "id": "iG30p8s8s9oD"
      },
      "execution_count": 301,
      "outputs": []
    },
    {
      "cell_type": "code",
      "source": [
        "print(df)"
      ],
      "metadata": {
        "colab": {
          "base_uri": "https://localhost:8080/"
        },
        "id": "wIAo5shYs_xj",
        "outputId": "dfa2f3e1-3631-485d-c6e5-c3380d3c26fd"
      },
      "execution_count": 302,
      "outputs": [
        {
          "output_type": "stream",
          "name": "stdout",
          "text": [
            "  User ID      User Name  Age       Location Registration Date         Phone  \\\n",
            "0    U001  Alice Johnson   28       New York        2023-01-15  123-456-7890   \n",
            "1    U002      Bob Smith   35    Los Angeles        2023-02-20  987-654-3210   \n",
            "2    U003    Charlie Lee   42        Chicago        2023-03-10  555-123-4567   \n",
            "3    U004    David Brown   27  San Francisco        2023-04-05  444-333-2222   \n",
            "4    U005     Emma White   30        Seattle        2023-05-22  777-888-9999   \n",
            "5    U006    Frank Green   25         Austin        2023-06-15  888-777-6666   \n",
            "6    U007     Grace King   38         Boston        2023-07-02  999-888-7777   \n",
            "7    U008      Henry Lee   31          Miami        2023-08-11  101-202-3030   \n",
            "8    U009    Irene Moore   33         Dallas        2023-09-01  202-303-4040   \n",
            "9    U010     Jack White   29        Phoenix        2023-10-10  303-404-5050   \n",
            "\n",
            "               Email Favorite Meal  Total Orders  \n",
            "0    alice@email.com        Dinner            12  \n",
            "1      bob@email.com         Lunch             8  \n",
            "2  charlie@email.com     Breakfast            15  \n",
            "3    david@email.com        Dinner            10  \n",
            "4     emma@email.com         Lunch             9  \n",
            "5    frank@email.com        Dinner             7  \n",
            "6    grace@email.com     Breakfast            14  \n",
            "7    henry@email.com        Dinner             5  \n",
            "8    irene@email.com         Lunch             6  \n",
            "9     jack@email.com        Dinner             8  \n"
          ]
        }
      ]
    },
    {
      "cell_type": "markdown",
      "source": [
        "Reading all the sheets from Datasource"
      ],
      "metadata": {
        "id": "2thX3AeoxXjv"
      }
    },
    {
      "cell_type": "code",
      "source": [
        "dfs = pd.read_excel(\"/content/Data Analyst Intern Assignment.xlsx\",sheet_name=None)"
      ],
      "metadata": {
        "id": "BoH323PU-APr"
      },
      "execution_count": 303,
      "outputs": []
    },
    {
      "cell_type": "code",
      "source": [
        "print(type(dfs))"
      ],
      "metadata": {
        "colab": {
          "base_uri": "https://localhost:8080/"
        },
        "id": "YusGLCY-C4NB",
        "outputId": "9317310f-c3be-4d78-faf1-6f55e3a10b6b"
      },
      "execution_count": 304,
      "outputs": [
        {
          "output_type": "stream",
          "name": "stdout",
          "text": [
            "<class 'dict'>\n"
          ]
        }
      ]
    },
    {
      "cell_type": "code",
      "source": [
        "print(dfs.keys())"
      ],
      "metadata": {
        "colab": {
          "base_uri": "https://localhost:8080/"
        },
        "id": "0fL3n0KnTXos",
        "outputId": "6ab896c9-2f81-4f11-ae7b-db29cbb71a06"
      },
      "execution_count": 305,
      "outputs": [
        {
          "output_type": "stream",
          "name": "stdout",
          "text": [
            "dict_keys(['UserDetails.csv', 'CookingSessions.csv', 'OrderDetails.csv', 'Sheet2', 'Pivot Table 3', 'Pivot Table 4'])\n"
          ]
        }
      ]
    },
    {
      "cell_type": "code",
      "source": [
        "print(dfs)"
      ],
      "metadata": {
        "colab": {
          "base_uri": "https://localhost:8080/"
        },
        "id": "lQEP3jMjTa9y",
        "outputId": "94eab2b1-61f1-4ed2-f2a5-f0b9a64e2bbd"
      },
      "execution_count": 306,
      "outputs": [
        {
          "output_type": "stream",
          "name": "stdout",
          "text": [
            "{'UserDetails.csv':   User ID      User Name  Age       Location Registration Date         Phone  \\\n",
            "0    U001  Alice Johnson   28       New York        2023-01-15  123-456-7890   \n",
            "1    U002      Bob Smith   35    Los Angeles        2023-02-20  987-654-3210   \n",
            "2    U003    Charlie Lee   42        Chicago        2023-03-10  555-123-4567   \n",
            "3    U004    David Brown   27  San Francisco        2023-04-05  444-333-2222   \n",
            "4    U005     Emma White   30        Seattle        2023-05-22  777-888-9999   \n",
            "5    U006    Frank Green   25         Austin        2023-06-15  888-777-6666   \n",
            "6    U007     Grace King   38         Boston        2023-07-02  999-888-7777   \n",
            "7    U008      Henry Lee   31          Miami        2023-08-11  101-202-3030   \n",
            "8    U009    Irene Moore   33         Dallas        2023-09-01  202-303-4040   \n",
            "9    U010     Jack White   29        Phoenix        2023-10-10  303-404-5050   \n",
            "\n",
            "               Email Favorite Meal  Total Orders  \n",
            "0    alice@email.com        Dinner            12  \n",
            "1      bob@email.com         Lunch             8  \n",
            "2  charlie@email.com     Breakfast            15  \n",
            "3    david@email.com        Dinner            10  \n",
            "4     emma@email.com         Lunch             9  \n",
            "5    frank@email.com        Dinner             7  \n",
            "6    grace@email.com     Breakfast            14  \n",
            "7    henry@email.com        Dinner             5  \n",
            "8    irene@email.com         Lunch             6  \n",
            "9     jack@email.com        Dinner             8  , 'CookingSessions.csv':    Session ID User ID        Dish Name  Meal Type       Session Start  \\\n",
            "0        S001    U001        Spaghetti     Dinner 2024-12-01 19:00:00   \n",
            "1        S002    U002     Caesar Salad      Lunch 2024-12-01 12:00:00   \n",
            "2        S003    U003  Grilled Chicken     Dinner 2024-12-02 19:30:00   \n",
            "3        S004    U001         Pancakes  Breakfast 2024-12-02 07:30:00   \n",
            "4        S005    U004     Caesar Salad      Lunch 2024-12-03 13:00:00   \n",
            "5        S006    U002        Spaghetti     Dinner 2024-12-03 18:30:00   \n",
            "6        S007    U005  Grilled Chicken     Dinner 2024-12-04 18:00:00   \n",
            "7        S008    U003    Veggie Burger      Lunch 2024-12-04 13:30:00   \n",
            "8        S009    U001  Grilled Chicken     Dinner 2024-12-05 19:00:00   \n",
            "9        S010    U002          Oatmeal  Breakfast 2024-12-05 07:00:00   \n",
            "10       S011    U003         Pancakes  Breakfast 2024-12-06 08:00:00   \n",
            "11       S012    U004        Spaghetti     Dinner 2024-12-06 19:00:00   \n",
            "12       S013    U005     Caesar Salad      Lunch 2024-12-07 12:30:00   \n",
            "13       S014    U006  Grilled Chicken     Dinner 2024-12-07 18:00:00   \n",
            "14       S015    U007        Spaghetti     Dinner 2024-12-08 19:30:00   \n",
            "15       S016    U008    Veggie Burger      Lunch 2024-12-08 13:30:00   \n",
            "\n",
            "           Session End  Duration (mins)  Session Rating         Region  Age  \\\n",
            "0  2024-12-01 19:30:00               30             4.5       New York   28   \n",
            "1  2024-12-01 12:20:00               20             4.0    Los Angeles   35   \n",
            "2  2024-12-02 20:10:00               40             4.8        Chicago   42   \n",
            "3  2024-12-02 08:00:00               30             4.2       New York   28   \n",
            "4  2024-12-03 13:15:00               15             4.7  San Francisco   27   \n",
            "5  2024-12-03 19:00:00               30             4.3    Los Angeles   35   \n",
            "6  2024-12-04 18:45:00               45             4.6        Seattle   30   \n",
            "7  2024-12-04 13:50:00               20             4.4        Chicago   42   \n",
            "8  2024-12-05 19:40:00               40             4.9       New York   28   \n",
            "9  2024-12-05 07:10:00               10             4.1    Los Angeles   35   \n",
            "10 2024-12-06 08:30:00               30             4.6        Chicago   42   \n",
            "11 2024-12-06 19:40:00               40             4.7  San Francisco   27   \n",
            "12 2024-12-07 13:00:00               30             4.4        Seattle   30   \n",
            "13 2024-12-07 18:45:00               45             4.8         Austin   25   \n",
            "14 2024-12-08 20:10:00               40             5.0         Boston   38   \n",
            "15 2024-12-08 13:50:00               20             4.3          Miami   31   \n",
            "\n",
            "    ...  .2  .3   .4   .5   .6   .7   .8   .9   .10   .11  \n",
            "0   ... NaN NaN  NaN  NaN  NaN  NaN  NaN  NaN   NaN   NaN  \n",
            "1   ... NaN NaN  NaN  NaN  NaN  NaN  NaN  NaN   NaN   NaN  \n",
            "2   ... NaN NaN  NaN  NaN  NaN  NaN  NaN  NaN   NaN   NaN  \n",
            "3   ... NaN NaN  NaN  NaN  NaN  NaN  NaN  NaN   NaN   NaN  \n",
            "4   ... NaN NaN  NaN  NaN  NaN  NaN  NaN  NaN   NaN   NaN  \n",
            "5   ... NaN NaN  NaN  NaN  NaN  NaN  NaN  NaN   NaN   NaN  \n",
            "6   ... NaN NaN  NaN  NaN  NaN  NaN  NaN  NaN   NaN   NaN  \n",
            "7   ... NaN NaN  NaN  NaN  NaN  NaN  NaN  NaN   NaN   NaN  \n",
            "8   ... NaN NaN  NaN  NaN  NaN  NaN  NaN  NaN   NaN   NaN  \n",
            "9   ... NaN NaN  NaN  NaN  NaN  NaN  NaN  NaN   NaN   NaN  \n",
            "10  ... NaN NaN  NaN  NaN  NaN  NaN  NaN  NaN   NaN   NaN  \n",
            "11  ... NaN NaN  NaN  NaN  NaN  NaN  NaN  NaN   NaN   NaN  \n",
            "12  ... NaN NaN  NaN  NaN  NaN  NaN  NaN  NaN   NaN   NaN  \n",
            "13  ... NaN NaN  NaN  NaN  NaN  NaN  NaN  NaN   NaN   NaN  \n",
            "14  ... NaN NaN  NaN  NaN  NaN  NaN  NaN  NaN   NaN   NaN  \n",
            "15  ... NaN NaN  NaN  NaN  NaN  NaN  NaN  NaN   NaN   NaN  \n",
            "\n",
            "[16 rows x 25 columns], 'OrderDetails.csv':     Order ID User ID       Location Order Date  Meal Type        Dish Name  \\\n",
            "0       1001    U001       New York 2024-12-01     Dinner        Spaghetti   \n",
            "1       1002    U002    Los Angeles 2024-12-01      Lunch     Caesar Salad   \n",
            "2       1003    U003        Chicago 2024-12-02     Dinner  Grilled Chicken   \n",
            "3       1004    U001       New York 2024-12-02  Breakfast         Pancakes   \n",
            "4       1005    U004  San Francisco 2024-12-03      Lunch     Caesar Salad   \n",
            "5       1006    U002    Los Angeles 2024-12-03     Dinner        Spaghetti   \n",
            "6       1007    U005        Seattle 2024-12-04     Dinner  Grilled Chicken   \n",
            "7       1008    U003        Chicago 2024-12-04      Lunch    Veggie Burger   \n",
            "8       1009    U001       New York 2024-12-05     Dinner  Grilled Chicken   \n",
            "9       1010    U002    Los Angeles 2024-12-05  Breakfast          Oatmeal   \n",
            "10      1011    U003        Chicago 2024-12-06  Breakfast         Pancakes   \n",
            "11      1012    U004  San Francisco 2024-12-06     Dinner        Spaghetti   \n",
            "12      1013    U005        Seattle 2024-12-07      Lunch     Caesar Salad   \n",
            "13      1014    U006         Austin 2024-12-07     Dinner  Grilled Chicken   \n",
            "14      1015    U007         Boston 2024-12-08     Dinner        Spaghetti   \n",
            "15      1016    U008          Miami 2024-12-08      Lunch    Veggie Burger   \n",
            "\n",
            "   Order Status  Amount (USD) Time of Day  Rating  ...  .4  .5   .6   .7   .8  \\\n",
            "0     Completed          15.0       Night     5.0  ... NaN NaN  NaN  NaN  NaN   \n",
            "1     Completed          10.0         Day     4.0  ... NaN NaN  NaN  NaN  NaN   \n",
            "2      Canceled          12.5       Night     NaN  ... NaN NaN  NaN  NaN  NaN   \n",
            "3     Completed           8.0     Morning     4.0  ... NaN NaN  NaN  NaN  NaN   \n",
            "4     Completed           9.0         Day     4.0  ... NaN NaN  NaN  NaN  NaN   \n",
            "5     Completed          14.0       Night     4.0  ... NaN NaN  NaN  NaN  NaN   \n",
            "6     Completed          13.5       Night     4.0  ... NaN NaN  NaN  NaN  NaN   \n",
            "7      Canceled          11.0         Day     NaN  ... NaN NaN  NaN  NaN  NaN   \n",
            "8     Completed          12.0       Night     5.0  ... NaN NaN  NaN  NaN  NaN   \n",
            "9     Completed           7.0     Morning     4.0  ... NaN NaN  NaN  NaN  NaN   \n",
            "10    Completed           8.5     Morning     4.0  ... NaN NaN  NaN  NaN  NaN   \n",
            "11    Completed          12.5       Night     4.0  ... NaN NaN  NaN  NaN  NaN   \n",
            "12    Completed           9.0         Day     4.0  ... NaN NaN  NaN  NaN  NaN   \n",
            "13    Completed          13.0       Night     5.0  ... NaN NaN  NaN  NaN  NaN   \n",
            "14    Completed          14.0       Night     5.0  ... NaN NaN  NaN  NaN  NaN   \n",
            "15    Completed          11.0         Day     4.0  ... NaN NaN  NaN  NaN  NaN   \n",
            "\n",
            "     .9   .10   .11   .12   .13  \n",
            "0   NaN   NaN   NaN   NaN   NaN  \n",
            "1   NaN   NaN   NaN   NaN   NaN  \n",
            "2   NaN   NaN   NaN   NaN   NaN  \n",
            "3   NaN   NaN   NaN   NaN   NaN  \n",
            "4   NaN   NaN   NaN   NaN   NaN  \n",
            "5   NaN   NaN   NaN   NaN   NaN  \n",
            "6   NaN   NaN   NaN   NaN   NaN  \n",
            "7   NaN   NaN   NaN   NaN   NaN  \n",
            "8   NaN   NaN   NaN   NaN   NaN  \n",
            "9   NaN   NaN   NaN   NaN   NaN  \n",
            "10  NaN   NaN   NaN   NaN   NaN  \n",
            "11  NaN   NaN   NaN   NaN   NaN  \n",
            "12  NaN   NaN   NaN   NaN   NaN  \n",
            "13  NaN   NaN   NaN   NaN   NaN  \n",
            "14  NaN   NaN   NaN   NaN   NaN  \n",
            "15  NaN   NaN   NaN   NaN   NaN  \n",
            "\n",
            "[16 rows x 27 columns], 'Sheet2':   User ID      User Name  Age       Location Registration Date         Phone  \\\n",
            "0    U001  Alice Johnson   28       New York        2023-01-15  123-456-7890   \n",
            "1    U002      Bob Smith   35    Los Angeles        2023-02-20  987-654-3210   \n",
            "2    U003    Charlie Lee   42        Chicago        2023-03-10  555-123-4567   \n",
            "3    U004    David Brown   27  San Francisco        2023-04-05  444-333-2222   \n",
            "4    U005     Emma White   30        Seattle        2023-05-22  777-888-9999   \n",
            "5    U006    Frank Green   25         Austin        2023-06-15  888-777-6666   \n",
            "6    U007     Grace King   38         Boston        2023-07-02  999-888-7777   \n",
            "7    U008      Henry Lee   31          Miami        2023-08-11  101-202-3030   \n",
            "8    U009    Irene Moore   33         Dallas        2023-09-01  202-303-4040   \n",
            "9    U010     Jack White   29        Phoenix        2023-10-10  303-404-5050   \n",
            "\n",
            "               Email Favorite Meal  Total Orders  \n",
            "0    alice@email.com        Dinner            12  \n",
            "1      bob@email.com         Lunch             8  \n",
            "2  charlie@email.com     Breakfast            15  \n",
            "3    david@email.com        Dinner            10  \n",
            "4     emma@email.com         Lunch             9  \n",
            "5    frank@email.com        Dinner             7  \n",
            "6    grace@email.com     Breakfast            14  \n",
            "7    henry@email.com        Dinner             5  \n",
            "8    irene@email.com         Lunch             6  \n",
            "9     jack@email.com        Dinner             8  , 'Pivot Table 3': Empty DataFrame\n",
            "Columns: []\n",
            "Index: [], 'Pivot Table 4': Empty DataFrame\n",
            "Columns: []\n",
            "Index: []}\n"
          ]
        }
      ]
    },
    {
      "cell_type": "code",
      "source": [
        "print(dfs[\"UserDetails.csv\"])"
      ],
      "metadata": {
        "id": "lgblmWnNToGb",
        "colab": {
          "base_uri": "https://localhost:8080/"
        },
        "outputId": "c3ed9e35-2c0c-4d88-b24d-5a6c7b736fdb"
      },
      "execution_count": 307,
      "outputs": [
        {
          "output_type": "stream",
          "name": "stdout",
          "text": [
            "  User ID      User Name  Age       Location Registration Date         Phone  \\\n",
            "0    U001  Alice Johnson   28       New York        2023-01-15  123-456-7890   \n",
            "1    U002      Bob Smith   35    Los Angeles        2023-02-20  987-654-3210   \n",
            "2    U003    Charlie Lee   42        Chicago        2023-03-10  555-123-4567   \n",
            "3    U004    David Brown   27  San Francisco        2023-04-05  444-333-2222   \n",
            "4    U005     Emma White   30        Seattle        2023-05-22  777-888-9999   \n",
            "5    U006    Frank Green   25         Austin        2023-06-15  888-777-6666   \n",
            "6    U007     Grace King   38         Boston        2023-07-02  999-888-7777   \n",
            "7    U008      Henry Lee   31          Miami        2023-08-11  101-202-3030   \n",
            "8    U009    Irene Moore   33         Dallas        2023-09-01  202-303-4040   \n",
            "9    U010     Jack White   29        Phoenix        2023-10-10  303-404-5050   \n",
            "\n",
            "               Email Favorite Meal  Total Orders  \n",
            "0    alice@email.com        Dinner            12  \n",
            "1      bob@email.com         Lunch             8  \n",
            "2  charlie@email.com     Breakfast            15  \n",
            "3    david@email.com        Dinner            10  \n",
            "4     emma@email.com         Lunch             9  \n",
            "5    frank@email.com        Dinner             7  \n",
            "6    grace@email.com     Breakfast            14  \n",
            "7    henry@email.com        Dinner             5  \n",
            "8    irene@email.com         Lunch             6  \n",
            "9     jack@email.com        Dinner             8  \n"
          ]
        }
      ]
    },
    {
      "cell_type": "code",
      "source": [
        "print(dfs[\"CookingSessions.csv\"])"
      ],
      "metadata": {
        "colab": {
          "base_uri": "https://localhost:8080/"
        },
        "id": "35UuVF1kucv8",
        "outputId": "97c231dd-bd58-4afa-c200-7ab0bf532344"
      },
      "execution_count": 308,
      "outputs": [
        {
          "output_type": "stream",
          "name": "stdout",
          "text": [
            "   Session ID User ID        Dish Name  Meal Type       Session Start  \\\n",
            "0        S001    U001        Spaghetti     Dinner 2024-12-01 19:00:00   \n",
            "1        S002    U002     Caesar Salad      Lunch 2024-12-01 12:00:00   \n",
            "2        S003    U003  Grilled Chicken     Dinner 2024-12-02 19:30:00   \n",
            "3        S004    U001         Pancakes  Breakfast 2024-12-02 07:30:00   \n",
            "4        S005    U004     Caesar Salad      Lunch 2024-12-03 13:00:00   \n",
            "5        S006    U002        Spaghetti     Dinner 2024-12-03 18:30:00   \n",
            "6        S007    U005  Grilled Chicken     Dinner 2024-12-04 18:00:00   \n",
            "7        S008    U003    Veggie Burger      Lunch 2024-12-04 13:30:00   \n",
            "8        S009    U001  Grilled Chicken     Dinner 2024-12-05 19:00:00   \n",
            "9        S010    U002          Oatmeal  Breakfast 2024-12-05 07:00:00   \n",
            "10       S011    U003         Pancakes  Breakfast 2024-12-06 08:00:00   \n",
            "11       S012    U004        Spaghetti     Dinner 2024-12-06 19:00:00   \n",
            "12       S013    U005     Caesar Salad      Lunch 2024-12-07 12:30:00   \n",
            "13       S014    U006  Grilled Chicken     Dinner 2024-12-07 18:00:00   \n",
            "14       S015    U007        Spaghetti     Dinner 2024-12-08 19:30:00   \n",
            "15       S016    U008    Veggie Burger      Lunch 2024-12-08 13:30:00   \n",
            "\n",
            "           Session End  Duration (mins)  Session Rating         Region  Age  \\\n",
            "0  2024-12-01 19:30:00               30             4.5       New York   28   \n",
            "1  2024-12-01 12:20:00               20             4.0    Los Angeles   35   \n",
            "2  2024-12-02 20:10:00               40             4.8        Chicago   42   \n",
            "3  2024-12-02 08:00:00               30             4.2       New York   28   \n",
            "4  2024-12-03 13:15:00               15             4.7  San Francisco   27   \n",
            "5  2024-12-03 19:00:00               30             4.3    Los Angeles   35   \n",
            "6  2024-12-04 18:45:00               45             4.6        Seattle   30   \n",
            "7  2024-12-04 13:50:00               20             4.4        Chicago   42   \n",
            "8  2024-12-05 19:40:00               40             4.9       New York   28   \n",
            "9  2024-12-05 07:10:00               10             4.1    Los Angeles   35   \n",
            "10 2024-12-06 08:30:00               30             4.6        Chicago   42   \n",
            "11 2024-12-06 19:40:00               40             4.7  San Francisco   27   \n",
            "12 2024-12-07 13:00:00               30             4.4        Seattle   30   \n",
            "13 2024-12-07 18:45:00               45             4.8         Austin   25   \n",
            "14 2024-12-08 20:10:00               40             5.0         Boston   38   \n",
            "15 2024-12-08 13:50:00               20             4.3          Miami   31   \n",
            "\n",
            "    ...  .2  .3   .4   .5   .6   .7   .8   .9   .10   .11  \n",
            "0   ... NaN NaN  NaN  NaN  NaN  NaN  NaN  NaN   NaN   NaN  \n",
            "1   ... NaN NaN  NaN  NaN  NaN  NaN  NaN  NaN   NaN   NaN  \n",
            "2   ... NaN NaN  NaN  NaN  NaN  NaN  NaN  NaN   NaN   NaN  \n",
            "3   ... NaN NaN  NaN  NaN  NaN  NaN  NaN  NaN   NaN   NaN  \n",
            "4   ... NaN NaN  NaN  NaN  NaN  NaN  NaN  NaN   NaN   NaN  \n",
            "5   ... NaN NaN  NaN  NaN  NaN  NaN  NaN  NaN   NaN   NaN  \n",
            "6   ... NaN NaN  NaN  NaN  NaN  NaN  NaN  NaN   NaN   NaN  \n",
            "7   ... NaN NaN  NaN  NaN  NaN  NaN  NaN  NaN   NaN   NaN  \n",
            "8   ... NaN NaN  NaN  NaN  NaN  NaN  NaN  NaN   NaN   NaN  \n",
            "9   ... NaN NaN  NaN  NaN  NaN  NaN  NaN  NaN   NaN   NaN  \n",
            "10  ... NaN NaN  NaN  NaN  NaN  NaN  NaN  NaN   NaN   NaN  \n",
            "11  ... NaN NaN  NaN  NaN  NaN  NaN  NaN  NaN   NaN   NaN  \n",
            "12  ... NaN NaN  NaN  NaN  NaN  NaN  NaN  NaN   NaN   NaN  \n",
            "13  ... NaN NaN  NaN  NaN  NaN  NaN  NaN  NaN   NaN   NaN  \n",
            "14  ... NaN NaN  NaN  NaN  NaN  NaN  NaN  NaN   NaN   NaN  \n",
            "15  ... NaN NaN  NaN  NaN  NaN  NaN  NaN  NaN   NaN   NaN  \n",
            "\n",
            "[16 rows x 25 columns]\n"
          ]
        }
      ]
    },
    {
      "cell_type": "code",
      "source": [
        "print(dfs[\"OrderDetails.csv\"])"
      ],
      "metadata": {
        "colab": {
          "base_uri": "https://localhost:8080/"
        },
        "id": "Lg116wjqu0-9",
        "outputId": "5389a274-d3ed-4bbc-b7b7-193df486279c"
      },
      "execution_count": 309,
      "outputs": [
        {
          "output_type": "stream",
          "name": "stdout",
          "text": [
            "    Order ID User ID       Location Order Date  Meal Type        Dish Name  \\\n",
            "0       1001    U001       New York 2024-12-01     Dinner        Spaghetti   \n",
            "1       1002    U002    Los Angeles 2024-12-01      Lunch     Caesar Salad   \n",
            "2       1003    U003        Chicago 2024-12-02     Dinner  Grilled Chicken   \n",
            "3       1004    U001       New York 2024-12-02  Breakfast         Pancakes   \n",
            "4       1005    U004  San Francisco 2024-12-03      Lunch     Caesar Salad   \n",
            "5       1006    U002    Los Angeles 2024-12-03     Dinner        Spaghetti   \n",
            "6       1007    U005        Seattle 2024-12-04     Dinner  Grilled Chicken   \n",
            "7       1008    U003        Chicago 2024-12-04      Lunch    Veggie Burger   \n",
            "8       1009    U001       New York 2024-12-05     Dinner  Grilled Chicken   \n",
            "9       1010    U002    Los Angeles 2024-12-05  Breakfast          Oatmeal   \n",
            "10      1011    U003        Chicago 2024-12-06  Breakfast         Pancakes   \n",
            "11      1012    U004  San Francisco 2024-12-06     Dinner        Spaghetti   \n",
            "12      1013    U005        Seattle 2024-12-07      Lunch     Caesar Salad   \n",
            "13      1014    U006         Austin 2024-12-07     Dinner  Grilled Chicken   \n",
            "14      1015    U007         Boston 2024-12-08     Dinner        Spaghetti   \n",
            "15      1016    U008          Miami 2024-12-08      Lunch    Veggie Burger   \n",
            "\n",
            "   Order Status  Amount (USD) Time of Day  Rating  ...  .4  .5   .6   .7   .8  \\\n",
            "0     Completed          15.0       Night     5.0  ... NaN NaN  NaN  NaN  NaN   \n",
            "1     Completed          10.0         Day     4.0  ... NaN NaN  NaN  NaN  NaN   \n",
            "2      Canceled          12.5       Night     NaN  ... NaN NaN  NaN  NaN  NaN   \n",
            "3     Completed           8.0     Morning     4.0  ... NaN NaN  NaN  NaN  NaN   \n",
            "4     Completed           9.0         Day     4.0  ... NaN NaN  NaN  NaN  NaN   \n",
            "5     Completed          14.0       Night     4.0  ... NaN NaN  NaN  NaN  NaN   \n",
            "6     Completed          13.5       Night     4.0  ... NaN NaN  NaN  NaN  NaN   \n",
            "7      Canceled          11.0         Day     NaN  ... NaN NaN  NaN  NaN  NaN   \n",
            "8     Completed          12.0       Night     5.0  ... NaN NaN  NaN  NaN  NaN   \n",
            "9     Completed           7.0     Morning     4.0  ... NaN NaN  NaN  NaN  NaN   \n",
            "10    Completed           8.5     Morning     4.0  ... NaN NaN  NaN  NaN  NaN   \n",
            "11    Completed          12.5       Night     4.0  ... NaN NaN  NaN  NaN  NaN   \n",
            "12    Completed           9.0         Day     4.0  ... NaN NaN  NaN  NaN  NaN   \n",
            "13    Completed          13.0       Night     5.0  ... NaN NaN  NaN  NaN  NaN   \n",
            "14    Completed          14.0       Night     5.0  ... NaN NaN  NaN  NaN  NaN   \n",
            "15    Completed          11.0         Day     4.0  ... NaN NaN  NaN  NaN  NaN   \n",
            "\n",
            "     .9   .10   .11   .12   .13  \n",
            "0   NaN   NaN   NaN   NaN   NaN  \n",
            "1   NaN   NaN   NaN   NaN   NaN  \n",
            "2   NaN   NaN   NaN   NaN   NaN  \n",
            "3   NaN   NaN   NaN   NaN   NaN  \n",
            "4   NaN   NaN   NaN   NaN   NaN  \n",
            "5   NaN   NaN   NaN   NaN   NaN  \n",
            "6   NaN   NaN   NaN   NaN   NaN  \n",
            "7   NaN   NaN   NaN   NaN   NaN  \n",
            "8   NaN   NaN   NaN   NaN   NaN  \n",
            "9   NaN   NaN   NaN   NaN   NaN  \n",
            "10  NaN   NaN   NaN   NaN   NaN  \n",
            "11  NaN   NaN   NaN   NaN   NaN  \n",
            "12  NaN   NaN   NaN   NaN   NaN  \n",
            "13  NaN   NaN   NaN   NaN   NaN  \n",
            "14  NaN   NaN   NaN   NaN   NaN  \n",
            "15  NaN   NaN   NaN   NaN   NaN  \n",
            "\n",
            "[16 rows x 27 columns]\n"
          ]
        }
      ]
    },
    {
      "cell_type": "markdown",
      "source": [
        "Identifying UserDetails as **dfUD**, CookingSession as **dfCS** and OderDetails as **dfOD** for easier access"
      ],
      "metadata": {
        "id": "Qxrys-gVxoJD"
      }
    },
    {
      "cell_type": "code",
      "source": [
        "dfUD = dfs[\"UserDetails.csv\"]"
      ],
      "metadata": {
        "id": "cDOIQG9OvB-Q"
      },
      "execution_count": 310,
      "outputs": []
    },
    {
      "cell_type": "code",
      "source": [
        "dfCS = dfs[\"CookingSessions.csv\"]"
      ],
      "metadata": {
        "id": "Nui73INTvcdB"
      },
      "execution_count": 311,
      "outputs": []
    },
    {
      "cell_type": "code",
      "source": [
        "dfOD = dfs[\"OrderDetails.csv\"]"
      ],
      "metadata": {
        "id": "n_yV4c1ivnKB"
      },
      "execution_count": 312,
      "outputs": []
    },
    {
      "cell_type": "markdown",
      "source": [
        "**EDA**  Exploratory Data Analysis"
      ],
      "metadata": {
        "id": "vWFEy9Fs1QsG"
      }
    },
    {
      "cell_type": "code",
      "source": [
        "print(dfUD)"
      ],
      "metadata": {
        "colab": {
          "base_uri": "https://localhost:8080/"
        },
        "id": "RcFPaMmdvbFW",
        "outputId": "ab8207e6-b845-46c3-96b8-ff8fde5b9ef8"
      },
      "execution_count": 313,
      "outputs": [
        {
          "output_type": "stream",
          "name": "stdout",
          "text": [
            "  User ID      User Name  Age       Location Registration Date         Phone  \\\n",
            "0    U001  Alice Johnson   28       New York        2023-01-15  123-456-7890   \n",
            "1    U002      Bob Smith   35    Los Angeles        2023-02-20  987-654-3210   \n",
            "2    U003    Charlie Lee   42        Chicago        2023-03-10  555-123-4567   \n",
            "3    U004    David Brown   27  San Francisco        2023-04-05  444-333-2222   \n",
            "4    U005     Emma White   30        Seattle        2023-05-22  777-888-9999   \n",
            "5    U006    Frank Green   25         Austin        2023-06-15  888-777-6666   \n",
            "6    U007     Grace King   38         Boston        2023-07-02  999-888-7777   \n",
            "7    U008      Henry Lee   31          Miami        2023-08-11  101-202-3030   \n",
            "8    U009    Irene Moore   33         Dallas        2023-09-01  202-303-4040   \n",
            "9    U010     Jack White   29        Phoenix        2023-10-10  303-404-5050   \n",
            "\n",
            "               Email Favorite Meal  Total Orders  \n",
            "0    alice@email.com        Dinner            12  \n",
            "1      bob@email.com         Lunch             8  \n",
            "2  charlie@email.com     Breakfast            15  \n",
            "3    david@email.com        Dinner            10  \n",
            "4     emma@email.com         Lunch             9  \n",
            "5    frank@email.com        Dinner             7  \n",
            "6    grace@email.com     Breakfast            14  \n",
            "7    henry@email.com        Dinner             5  \n",
            "8    irene@email.com         Lunch             6  \n",
            "9     jack@email.com        Dinner             8  \n"
          ]
        }
      ]
    },
    {
      "cell_type": "code",
      "source": [
        "print(dfCS)"
      ],
      "metadata": {
        "colab": {
          "base_uri": "https://localhost:8080/"
        },
        "id": "TBpOKj0qvlPY",
        "outputId": "5055aaa9-043f-466b-8b86-108add6dd0f8"
      },
      "execution_count": 314,
      "outputs": [
        {
          "output_type": "stream",
          "name": "stdout",
          "text": [
            "   Session ID User ID        Dish Name  Meal Type       Session Start  \\\n",
            "0        S001    U001        Spaghetti     Dinner 2024-12-01 19:00:00   \n",
            "1        S002    U002     Caesar Salad      Lunch 2024-12-01 12:00:00   \n",
            "2        S003    U003  Grilled Chicken     Dinner 2024-12-02 19:30:00   \n",
            "3        S004    U001         Pancakes  Breakfast 2024-12-02 07:30:00   \n",
            "4        S005    U004     Caesar Salad      Lunch 2024-12-03 13:00:00   \n",
            "5        S006    U002        Spaghetti     Dinner 2024-12-03 18:30:00   \n",
            "6        S007    U005  Grilled Chicken     Dinner 2024-12-04 18:00:00   \n",
            "7        S008    U003    Veggie Burger      Lunch 2024-12-04 13:30:00   \n",
            "8        S009    U001  Grilled Chicken     Dinner 2024-12-05 19:00:00   \n",
            "9        S010    U002          Oatmeal  Breakfast 2024-12-05 07:00:00   \n",
            "10       S011    U003         Pancakes  Breakfast 2024-12-06 08:00:00   \n",
            "11       S012    U004        Spaghetti     Dinner 2024-12-06 19:00:00   \n",
            "12       S013    U005     Caesar Salad      Lunch 2024-12-07 12:30:00   \n",
            "13       S014    U006  Grilled Chicken     Dinner 2024-12-07 18:00:00   \n",
            "14       S015    U007        Spaghetti     Dinner 2024-12-08 19:30:00   \n",
            "15       S016    U008    Veggie Burger      Lunch 2024-12-08 13:30:00   \n",
            "\n",
            "           Session End  Duration (mins)  Session Rating         Region  Age  \\\n",
            "0  2024-12-01 19:30:00               30             4.5       New York   28   \n",
            "1  2024-12-01 12:20:00               20             4.0    Los Angeles   35   \n",
            "2  2024-12-02 20:10:00               40             4.8        Chicago   42   \n",
            "3  2024-12-02 08:00:00               30             4.2       New York   28   \n",
            "4  2024-12-03 13:15:00               15             4.7  San Francisco   27   \n",
            "5  2024-12-03 19:00:00               30             4.3    Los Angeles   35   \n",
            "6  2024-12-04 18:45:00               45             4.6        Seattle   30   \n",
            "7  2024-12-04 13:50:00               20             4.4        Chicago   42   \n",
            "8  2024-12-05 19:40:00               40             4.9       New York   28   \n",
            "9  2024-12-05 07:10:00               10             4.1    Los Angeles   35   \n",
            "10 2024-12-06 08:30:00               30             4.6        Chicago   42   \n",
            "11 2024-12-06 19:40:00               40             4.7  San Francisco   27   \n",
            "12 2024-12-07 13:00:00               30             4.4        Seattle   30   \n",
            "13 2024-12-07 18:45:00               45             4.8         Austin   25   \n",
            "14 2024-12-08 20:10:00               40             5.0         Boston   38   \n",
            "15 2024-12-08 13:50:00               20             4.3          Miami   31   \n",
            "\n",
            "    ...  .2  .3   .4   .5   .6   .7   .8   .9   .10   .11  \n",
            "0   ... NaN NaN  NaN  NaN  NaN  NaN  NaN  NaN   NaN   NaN  \n",
            "1   ... NaN NaN  NaN  NaN  NaN  NaN  NaN  NaN   NaN   NaN  \n",
            "2   ... NaN NaN  NaN  NaN  NaN  NaN  NaN  NaN   NaN   NaN  \n",
            "3   ... NaN NaN  NaN  NaN  NaN  NaN  NaN  NaN   NaN   NaN  \n",
            "4   ... NaN NaN  NaN  NaN  NaN  NaN  NaN  NaN   NaN   NaN  \n",
            "5   ... NaN NaN  NaN  NaN  NaN  NaN  NaN  NaN   NaN   NaN  \n",
            "6   ... NaN NaN  NaN  NaN  NaN  NaN  NaN  NaN   NaN   NaN  \n",
            "7   ... NaN NaN  NaN  NaN  NaN  NaN  NaN  NaN   NaN   NaN  \n",
            "8   ... NaN NaN  NaN  NaN  NaN  NaN  NaN  NaN   NaN   NaN  \n",
            "9   ... NaN NaN  NaN  NaN  NaN  NaN  NaN  NaN   NaN   NaN  \n",
            "10  ... NaN NaN  NaN  NaN  NaN  NaN  NaN  NaN   NaN   NaN  \n",
            "11  ... NaN NaN  NaN  NaN  NaN  NaN  NaN  NaN   NaN   NaN  \n",
            "12  ... NaN NaN  NaN  NaN  NaN  NaN  NaN  NaN   NaN   NaN  \n",
            "13  ... NaN NaN  NaN  NaN  NaN  NaN  NaN  NaN   NaN   NaN  \n",
            "14  ... NaN NaN  NaN  NaN  NaN  NaN  NaN  NaN   NaN   NaN  \n",
            "15  ... NaN NaN  NaN  NaN  NaN  NaN  NaN  NaN   NaN   NaN  \n",
            "\n",
            "[16 rows x 25 columns]\n"
          ]
        }
      ]
    },
    {
      "cell_type": "code",
      "source": [
        "print(dfOD)"
      ],
      "metadata": {
        "colab": {
          "base_uri": "https://localhost:8080/"
        },
        "id": "CYOnrHUdvweD",
        "outputId": "7652c319-bfcc-465d-d747-ceaf1a39922f"
      },
      "execution_count": 315,
      "outputs": [
        {
          "output_type": "stream",
          "name": "stdout",
          "text": [
            "    Order ID User ID       Location Order Date  Meal Type        Dish Name  \\\n",
            "0       1001    U001       New York 2024-12-01     Dinner        Spaghetti   \n",
            "1       1002    U002    Los Angeles 2024-12-01      Lunch     Caesar Salad   \n",
            "2       1003    U003        Chicago 2024-12-02     Dinner  Grilled Chicken   \n",
            "3       1004    U001       New York 2024-12-02  Breakfast         Pancakes   \n",
            "4       1005    U004  San Francisco 2024-12-03      Lunch     Caesar Salad   \n",
            "5       1006    U002    Los Angeles 2024-12-03     Dinner        Spaghetti   \n",
            "6       1007    U005        Seattle 2024-12-04     Dinner  Grilled Chicken   \n",
            "7       1008    U003        Chicago 2024-12-04      Lunch    Veggie Burger   \n",
            "8       1009    U001       New York 2024-12-05     Dinner  Grilled Chicken   \n",
            "9       1010    U002    Los Angeles 2024-12-05  Breakfast          Oatmeal   \n",
            "10      1011    U003        Chicago 2024-12-06  Breakfast         Pancakes   \n",
            "11      1012    U004  San Francisco 2024-12-06     Dinner        Spaghetti   \n",
            "12      1013    U005        Seattle 2024-12-07      Lunch     Caesar Salad   \n",
            "13      1014    U006         Austin 2024-12-07     Dinner  Grilled Chicken   \n",
            "14      1015    U007         Boston 2024-12-08     Dinner        Spaghetti   \n",
            "15      1016    U008          Miami 2024-12-08      Lunch    Veggie Burger   \n",
            "\n",
            "   Order Status  Amount (USD) Time of Day  Rating  ...  .4  .5   .6   .7   .8  \\\n",
            "0     Completed          15.0       Night     5.0  ... NaN NaN  NaN  NaN  NaN   \n",
            "1     Completed          10.0         Day     4.0  ... NaN NaN  NaN  NaN  NaN   \n",
            "2      Canceled          12.5       Night     NaN  ... NaN NaN  NaN  NaN  NaN   \n",
            "3     Completed           8.0     Morning     4.0  ... NaN NaN  NaN  NaN  NaN   \n",
            "4     Completed           9.0         Day     4.0  ... NaN NaN  NaN  NaN  NaN   \n",
            "5     Completed          14.0       Night     4.0  ... NaN NaN  NaN  NaN  NaN   \n",
            "6     Completed          13.5       Night     4.0  ... NaN NaN  NaN  NaN  NaN   \n",
            "7      Canceled          11.0         Day     NaN  ... NaN NaN  NaN  NaN  NaN   \n",
            "8     Completed          12.0       Night     5.0  ... NaN NaN  NaN  NaN  NaN   \n",
            "9     Completed           7.0     Morning     4.0  ... NaN NaN  NaN  NaN  NaN   \n",
            "10    Completed           8.5     Morning     4.0  ... NaN NaN  NaN  NaN  NaN   \n",
            "11    Completed          12.5       Night     4.0  ... NaN NaN  NaN  NaN  NaN   \n",
            "12    Completed           9.0         Day     4.0  ... NaN NaN  NaN  NaN  NaN   \n",
            "13    Completed          13.0       Night     5.0  ... NaN NaN  NaN  NaN  NaN   \n",
            "14    Completed          14.0       Night     5.0  ... NaN NaN  NaN  NaN  NaN   \n",
            "15    Completed          11.0         Day     4.0  ... NaN NaN  NaN  NaN  NaN   \n",
            "\n",
            "     .9   .10   .11   .12   .13  \n",
            "0   NaN   NaN   NaN   NaN   NaN  \n",
            "1   NaN   NaN   NaN   NaN   NaN  \n",
            "2   NaN   NaN   NaN   NaN   NaN  \n",
            "3   NaN   NaN   NaN   NaN   NaN  \n",
            "4   NaN   NaN   NaN   NaN   NaN  \n",
            "5   NaN   NaN   NaN   NaN   NaN  \n",
            "6   NaN   NaN   NaN   NaN   NaN  \n",
            "7   NaN   NaN   NaN   NaN   NaN  \n",
            "8   NaN   NaN   NaN   NaN   NaN  \n",
            "9   NaN   NaN   NaN   NaN   NaN  \n",
            "10  NaN   NaN   NaN   NaN   NaN  \n",
            "11  NaN   NaN   NaN   NaN   NaN  \n",
            "12  NaN   NaN   NaN   NaN   NaN  \n",
            "13  NaN   NaN   NaN   NaN   NaN  \n",
            "14  NaN   NaN   NaN   NaN   NaN  \n",
            "15  NaN   NaN   NaN   NaN   NaN  \n",
            "\n",
            "[16 rows x 27 columns]\n"
          ]
        }
      ]
    },
    {
      "cell_type": "markdown",
      "source": [
        "Here, we notice the interconnection between the tables.\n",
        "> Primary Key for UserDetails table is \"User ID\"\n",
        "\n",
        "> Primary Key for CookingSession table is \"Session ID\"\n",
        "\n",
        "> Primary Key for OrderDetails table is \"Order ID\"\n",
        "\n",
        "> UserDetails and CookingSession tables are interconnected through a Foreign Key \"User ID\"\n",
        "\n",
        "> CookingSession and OrderDetails tables are interconnected through a Foreign Key \"Session ID\"\n",
        "\n",
        "> UserDetails and OrderDetails tables are interconnected through a Foreign Key \"User ID\"\n",
        "\n",
        "\n",
        "\n"
      ],
      "metadata": {
        "id": "umk3xMIXv1su"
      }
    },
    {
      "cell_type": "code",
      "source": [
        "print(type(dfUD))\n",
        "print(type(dfCS))\n",
        "print(type(dfOD))"
      ],
      "metadata": {
        "colab": {
          "base_uri": "https://localhost:8080/"
        },
        "id": "JdkWaNg9yGCJ",
        "outputId": "87e5609b-a55a-4792-f499-e378957950bb"
      },
      "execution_count": 316,
      "outputs": [
        {
          "output_type": "stream",
          "name": "stdout",
          "text": [
            "<class 'pandas.core.frame.DataFrame'>\n",
            "<class 'pandas.core.frame.DataFrame'>\n",
            "<class 'pandas.core.frame.DataFrame'>\n"
          ]
        }
      ]
    },
    {
      "cell_type": "code",
      "source": [
        "print(dfUD.columns)\n",
        "print(dfCS.columns)\n",
        "print(dfOD.columns)"
      ],
      "metadata": {
        "colab": {
          "base_uri": "https://localhost:8080/"
        },
        "id": "7pbTGd322gl8",
        "outputId": "6c3784b7-fc69-448c-afc4-0a4482c03e7f"
      },
      "execution_count": 317,
      "outputs": [
        {
          "output_type": "stream",
          "name": "stdout",
          "text": [
            "Index(['User ID', 'User Name', 'Age', 'Location', 'Registration Date', 'Phone',\n",
            "       'Email', 'Favorite Meal', 'Total Orders'],\n",
            "      dtype='object')\n",
            "Index(['Session ID', 'User ID', 'Dish Name', 'Meal Type', 'Session Start',\n",
            "       'Session End', 'Duration (mins)', 'Session Rating', 'Region', 'Age',\n",
            "       'Time of Day', 'Order Status', ' ', 'Time of Day.1', ' .1', ' .2',\n",
            "       ' .3', ' .4', ' .5', ' .6', ' .7', ' .8', ' .9', ' .10', ' .11'],\n",
            "      dtype='object')\n",
            "Index(['Order ID', 'User ID', 'Location', 'Order Date', 'Meal Type',\n",
            "       'Dish Name', 'Order Status', 'Amount (USD)', 'Time of Day', 'Rating',\n",
            "       'Session ID', 'Dish Name.1', 'Total Order', ' ', ' .1', ' .2', ' .3',\n",
            "       ' .4', ' .5', ' .6', ' .7', ' .8', ' .9', ' .10', ' .11', ' .12',\n",
            "       ' .13'],\n",
            "      dtype='object')\n"
          ]
        }
      ]
    },
    {
      "cell_type": "code",
      "source": [
        "print(dfUD.shape)\n",
        "print(dfCS.shape)\n",
        "print(dfOD.shape)"
      ],
      "metadata": {
        "colab": {
          "base_uri": "https://localhost:8080/"
        },
        "id": "Mp5XSTTz2BVG",
        "outputId": "f2ef8671-aa87-4b31-b962-7c443c991b01"
      },
      "execution_count": 318,
      "outputs": [
        {
          "output_type": "stream",
          "name": "stdout",
          "text": [
            "(10, 9)\n",
            "(16, 25)\n",
            "(16, 27)\n"
          ]
        }
      ]
    },
    {
      "cell_type": "code",
      "source": [
        "print(dfUD.dtypes)\n",
        "print(\"***************************************************\")\n",
        "print(dfCS.dtypes)\n",
        "print(\"***************************************************\")\n",
        "print(dfOD.dtypes)"
      ],
      "metadata": {
        "colab": {
          "base_uri": "https://localhost:8080/"
        },
        "id": "_DMvAEyg2zU0",
        "outputId": "ecd1dcfa-5279-47ae-986b-f5e0005928cc"
      },
      "execution_count": 319,
      "outputs": [
        {
          "output_type": "stream",
          "name": "stdout",
          "text": [
            "User ID                      object\n",
            "User Name                    object\n",
            "Age                           int64\n",
            "Location                     object\n",
            "Registration Date    datetime64[ns]\n",
            "Phone                        object\n",
            "Email                        object\n",
            "Favorite Meal                object\n",
            "Total Orders                  int64\n",
            "dtype: object\n",
            "***************************************************\n",
            "Session ID                 object\n",
            "User ID                    object\n",
            "Dish Name                  object\n",
            "Meal Type                  object\n",
            "Session Start      datetime64[ns]\n",
            "Session End        datetime64[ns]\n",
            "Duration (mins)             int64\n",
            "Session Rating            float64\n",
            "Region                     object\n",
            "Age                         int64\n",
            "Time of Day                object\n",
            "Order Status               object\n",
            "                          float64\n",
            "Time of Day.1             float64\n",
            " .1                       float64\n",
            " .2                       float64\n",
            " .3                       float64\n",
            " .4                       float64\n",
            " .5                       float64\n",
            " .6                       float64\n",
            " .7                       float64\n",
            " .8                       float64\n",
            " .9                       float64\n",
            " .10                      float64\n",
            " .11                      float64\n",
            "dtype: object\n",
            "***************************************************\n",
            "Order ID                 int64\n",
            "User ID                 object\n",
            "Location                object\n",
            "Order Date      datetime64[ns]\n",
            "Meal Type               object\n",
            "Dish Name               object\n",
            "Order Status            object\n",
            "Amount (USD)           float64\n",
            "Time of Day             object\n",
            "Rating                 float64\n",
            "Session ID              object\n",
            "Dish Name.1             object\n",
            "Total Order              int64\n",
            "                       float64\n",
            " .1                    float64\n",
            " .2                    float64\n",
            " .3                    float64\n",
            " .4                    float64\n",
            " .5                    float64\n",
            " .6                    float64\n",
            " .7                    float64\n",
            " .8                    float64\n",
            " .9                    float64\n",
            " .10                   float64\n",
            " .11                   float64\n",
            " .12                   float64\n",
            " .13                   float64\n",
            "dtype: object\n"
          ]
        }
      ]
    },
    {
      "cell_type": "code",
      "source": [
        "print(dfUD.info())\n",
        "print(\"***************************************************\")\n",
        "print(dfCS.info())\n",
        "print(\"***************************************************\")\n",
        "print(dfOD.info())"
      ],
      "metadata": {
        "colab": {
          "base_uri": "https://localhost:8080/"
        },
        "id": "SHI2HYMU28jQ",
        "outputId": "f167c79e-4f6a-4113-a9f2-8fbc735de97c"
      },
      "execution_count": 320,
      "outputs": [
        {
          "output_type": "stream",
          "name": "stdout",
          "text": [
            "<class 'pandas.core.frame.DataFrame'>\n",
            "RangeIndex: 10 entries, 0 to 9\n",
            "Data columns (total 9 columns):\n",
            " #   Column             Non-Null Count  Dtype         \n",
            "---  ------             --------------  -----         \n",
            " 0   User ID            10 non-null     object        \n",
            " 1   User Name          10 non-null     object        \n",
            " 2   Age                10 non-null     int64         \n",
            " 3   Location           10 non-null     object        \n",
            " 4   Registration Date  10 non-null     datetime64[ns]\n",
            " 5   Phone              10 non-null     object        \n",
            " 6   Email              10 non-null     object        \n",
            " 7   Favorite Meal      10 non-null     object        \n",
            " 8   Total Orders       10 non-null     int64         \n",
            "dtypes: datetime64[ns](1), int64(2), object(6)\n",
            "memory usage: 848.0+ bytes\n",
            "None\n",
            "***************************************************\n",
            "<class 'pandas.core.frame.DataFrame'>\n",
            "RangeIndex: 16 entries, 0 to 15\n",
            "Data columns (total 25 columns):\n",
            " #   Column           Non-Null Count  Dtype         \n",
            "---  ------           --------------  -----         \n",
            " 0   Session ID       16 non-null     object        \n",
            " 1   User ID          16 non-null     object        \n",
            " 2   Dish Name        16 non-null     object        \n",
            " 3   Meal Type        16 non-null     object        \n",
            " 4   Session Start    16 non-null     datetime64[ns]\n",
            " 5   Session End      16 non-null     datetime64[ns]\n",
            " 6   Duration (mins)  16 non-null     int64         \n",
            " 7   Session Rating   16 non-null     float64       \n",
            " 8   Region           16 non-null     object        \n",
            " 9   Age              16 non-null     int64         \n",
            " 10  Time of Day      16 non-null     object        \n",
            " 11  Order Status     16 non-null     object        \n",
            " 12                   0 non-null      float64       \n",
            " 13  Time of Day.1    0 non-null      float64       \n",
            " 14   .1              0 non-null      float64       \n",
            " 15   .2              0 non-null      float64       \n",
            " 16   .3              0 non-null      float64       \n",
            " 17   .4              0 non-null      float64       \n",
            " 18   .5              0 non-null      float64       \n",
            " 19   .6              0 non-null      float64       \n",
            " 20   .7              0 non-null      float64       \n",
            " 21   .8              0 non-null      float64       \n",
            " 22   .9              0 non-null      float64       \n",
            " 23   .10             0 non-null      float64       \n",
            " 24   .11             0 non-null      float64       \n",
            "dtypes: datetime64[ns](2), float64(14), int64(2), object(7)\n",
            "memory usage: 3.2+ KB\n",
            "None\n",
            "***************************************************\n",
            "<class 'pandas.core.frame.DataFrame'>\n",
            "RangeIndex: 16 entries, 0 to 15\n",
            "Data columns (total 27 columns):\n",
            " #   Column        Non-Null Count  Dtype         \n",
            "---  ------        --------------  -----         \n",
            " 0   Order ID      16 non-null     int64         \n",
            " 1   User ID       16 non-null     object        \n",
            " 2   Location      16 non-null     object        \n",
            " 3   Order Date    16 non-null     datetime64[ns]\n",
            " 4   Meal Type     16 non-null     object        \n",
            " 5   Dish Name     16 non-null     object        \n",
            " 6   Order Status  16 non-null     object        \n",
            " 7   Amount (USD)  16 non-null     float64       \n",
            " 8   Time of Day   16 non-null     object        \n",
            " 9   Rating        14 non-null     float64       \n",
            " 10  Session ID    16 non-null     object        \n",
            " 11  Dish Name.1   16 non-null     object        \n",
            " 12  Total Order   16 non-null     int64         \n",
            " 13                0 non-null      float64       \n",
            " 14   .1           0 non-null      float64       \n",
            " 15   .2           0 non-null      float64       \n",
            " 16   .3           0 non-null      float64       \n",
            " 17   .4           0 non-null      float64       \n",
            " 18   .5           0 non-null      float64       \n",
            " 19   .6           0 non-null      float64       \n",
            " 20   .7           0 non-null      float64       \n",
            " 21   .8           0 non-null      float64       \n",
            " 22   .9           0 non-null      float64       \n",
            " 23   .10          0 non-null      float64       \n",
            " 24   .11          0 non-null      float64       \n",
            " 25   .12          0 non-null      float64       \n",
            " 26   .13          0 non-null      float64       \n",
            "dtypes: datetime64[ns](1), float64(16), int64(2), object(8)\n",
            "memory usage: 3.5+ KB\n",
            "None\n"
          ]
        }
      ]
    },
    {
      "cell_type": "code",
      "source": [
        "print(dfUD[\"User ID\"].nunique())"
      ],
      "metadata": {
        "colab": {
          "base_uri": "https://localhost:8080/"
        },
        "id": "K3Dr1ZsD3_kR",
        "outputId": "b5d1f223-2728-4682-9988-a4dc0da449c1"
      },
      "execution_count": 321,
      "outputs": [
        {
          "output_type": "stream",
          "name": "stdout",
          "text": [
            "10\n"
          ]
        }
      ]
    },
    {
      "cell_type": "code",
      "source": [
        "print(dfUD[\"Location\"].nunique())"
      ],
      "metadata": {
        "colab": {
          "base_uri": "https://localhost:8080/"
        },
        "id": "uIMdSaMK4_K7",
        "outputId": "c128a188-68f5-41b2-d0b6-92ed8173c48c"
      },
      "execution_count": 322,
      "outputs": [
        {
          "output_type": "stream",
          "name": "stdout",
          "text": [
            "10\n"
          ]
        }
      ]
    },
    {
      "cell_type": "code",
      "source": [
        "print(dfUD[\"Phone\"].nunique())"
      ],
      "metadata": {
        "colab": {
          "base_uri": "https://localhost:8080/"
        },
        "id": "QOJK_r1V5KHF",
        "outputId": "c70e2e70-9f07-4e92-e632-47ed30774e49"
      },
      "execution_count": 323,
      "outputs": [
        {
          "output_type": "stream",
          "name": "stdout",
          "text": [
            "10\n"
          ]
        }
      ]
    },
    {
      "cell_type": "code",
      "source": [
        "print(dfCS[\"Session ID\"].nunique())"
      ],
      "metadata": {
        "colab": {
          "base_uri": "https://localhost:8080/"
        },
        "id": "ZfnfunGA5PFh",
        "outputId": "099ecc2f-517a-44ad-d649-f0f3bda2b376"
      },
      "execution_count": 324,
      "outputs": [
        {
          "output_type": "stream",
          "name": "stdout",
          "text": [
            "16\n"
          ]
        }
      ]
    },
    {
      "cell_type": "code",
      "source": [
        "print(dfCS[\"User ID\"].nunique())"
      ],
      "metadata": {
        "colab": {
          "base_uri": "https://localhost:8080/"
        },
        "id": "jCQhVLKL5Vla",
        "outputId": "18b95538-f3d0-4cc4-c3ec-86b26809f785"
      },
      "execution_count": 325,
      "outputs": [
        {
          "output_type": "stream",
          "name": "stdout",
          "text": [
            "8\n"
          ]
        }
      ]
    },
    {
      "cell_type": "code",
      "source": [
        "print(dfOD[\"Order ID\"].nunique())"
      ],
      "metadata": {
        "colab": {
          "base_uri": "https://localhost:8080/"
        },
        "id": "-_bUfdnE5cyh",
        "outputId": "8ec0c175-df9c-402e-eb59-8ba6ff0e4ea2"
      },
      "execution_count": 326,
      "outputs": [
        {
          "output_type": "stream",
          "name": "stdout",
          "text": [
            "16\n"
          ]
        }
      ]
    },
    {
      "cell_type": "code",
      "source": [
        "print(dfOD[\"User ID\"].nunique())"
      ],
      "metadata": {
        "colab": {
          "base_uri": "https://localhost:8080/"
        },
        "id": "sYdh0xFZ5ikw",
        "outputId": "034ea059-2592-4803-ef22-56b09db6028d"
      },
      "execution_count": 327,
      "outputs": [
        {
          "output_type": "stream",
          "name": "stdout",
          "text": [
            "8\n"
          ]
        }
      ]
    },
    {
      "cell_type": "code",
      "source": [
        "print(dfOD[\"Order Date\"].nunique())"
      ],
      "metadata": {
        "colab": {
          "base_uri": "https://localhost:8080/"
        },
        "id": "cTLCzK2q52BG",
        "outputId": "3739d7a0-1feb-4607-b532-acb28fc9a625"
      },
      "execution_count": 328,
      "outputs": [
        {
          "output_type": "stream",
          "name": "stdout",
          "text": [
            "8\n"
          ]
        }
      ]
    },
    {
      "cell_type": "code",
      "source": [
        "print(dfOD[\"Meal Type\"].nunique())"
      ],
      "metadata": {
        "colab": {
          "base_uri": "https://localhost:8080/"
        },
        "id": "jwj5t8xR5x43",
        "outputId": "8676374d-c07a-45ef-99a9-945f2ee98dba"
      },
      "execution_count": 329,
      "outputs": [
        {
          "output_type": "stream",
          "name": "stdout",
          "text": [
            "3\n"
          ]
        }
      ]
    },
    {
      "cell_type": "code",
      "source": [
        "print(dfOD[\"Dish Name\"].nunique())"
      ],
      "metadata": {
        "colab": {
          "base_uri": "https://localhost:8080/"
        },
        "id": "jNs4RMwz5ml_",
        "outputId": "c3f51eac-ec6d-4428-e965-bb2b278914da"
      },
      "execution_count": 330,
      "outputs": [
        {
          "output_type": "stream",
          "name": "stdout",
          "text": [
            "6\n"
          ]
        }
      ]
    },
    {
      "cell_type": "code",
      "source": [
        "print(dfOD[\"Order Status\"].nunique())"
      ],
      "metadata": {
        "colab": {
          "base_uri": "https://localhost:8080/"
        },
        "id": "lXsveLge5q4S",
        "outputId": "c4728867-78cc-4d3a-c768-a0e6e6df4f48"
      },
      "execution_count": 331,
      "outputs": [
        {
          "output_type": "stream",
          "name": "stdout",
          "text": [
            "2\n"
          ]
        }
      ]
    },
    {
      "cell_type": "code",
      "source": [
        "print(dfOD[\"Time of Day\"].nunique())"
      ],
      "metadata": {
        "colab": {
          "base_uri": "https://localhost:8080/"
        },
        "id": "uvDqnxTl5tkQ",
        "outputId": "5cd55c12-4283-409b-e8c2-492e38b63677"
      },
      "execution_count": 332,
      "outputs": [
        {
          "output_type": "stream",
          "name": "stdout",
          "text": [
            "3\n"
          ]
        }
      ]
    },
    {
      "cell_type": "code",
      "source": [
        "dfUD.isnull().sum()"
      ],
      "metadata": {
        "colab": {
          "base_uri": "https://localhost:8080/",
          "height": 366
        },
        "id": "qxzibxec5_th",
        "outputId": "d4bd192f-4c53-474f-a481-f321719a9a70"
      },
      "execution_count": 333,
      "outputs": [
        {
          "output_type": "execute_result",
          "data": {
            "text/plain": [
              "User ID              0\n",
              "User Name            0\n",
              "Age                  0\n",
              "Location             0\n",
              "Registration Date    0\n",
              "Phone                0\n",
              "Email                0\n",
              "Favorite Meal        0\n",
              "Total Orders         0\n",
              "dtype: int64"
            ],
            "text/html": [
              "<div>\n",
              "<style scoped>\n",
              "    .dataframe tbody tr th:only-of-type {\n",
              "        vertical-align: middle;\n",
              "    }\n",
              "\n",
              "    .dataframe tbody tr th {\n",
              "        vertical-align: top;\n",
              "    }\n",
              "\n",
              "    .dataframe thead th {\n",
              "        text-align: right;\n",
              "    }\n",
              "</style>\n",
              "<table border=\"1\" class=\"dataframe\">\n",
              "  <thead>\n",
              "    <tr style=\"text-align: right;\">\n",
              "      <th></th>\n",
              "      <th>0</th>\n",
              "    </tr>\n",
              "  </thead>\n",
              "  <tbody>\n",
              "    <tr>\n",
              "      <th>User ID</th>\n",
              "      <td>0</td>\n",
              "    </tr>\n",
              "    <tr>\n",
              "      <th>User Name</th>\n",
              "      <td>0</td>\n",
              "    </tr>\n",
              "    <tr>\n",
              "      <th>Age</th>\n",
              "      <td>0</td>\n",
              "    </tr>\n",
              "    <tr>\n",
              "      <th>Location</th>\n",
              "      <td>0</td>\n",
              "    </tr>\n",
              "    <tr>\n",
              "      <th>Registration Date</th>\n",
              "      <td>0</td>\n",
              "    </tr>\n",
              "    <tr>\n",
              "      <th>Phone</th>\n",
              "      <td>0</td>\n",
              "    </tr>\n",
              "    <tr>\n",
              "      <th>Email</th>\n",
              "      <td>0</td>\n",
              "    </tr>\n",
              "    <tr>\n",
              "      <th>Favorite Meal</th>\n",
              "      <td>0</td>\n",
              "    </tr>\n",
              "    <tr>\n",
              "      <th>Total Orders</th>\n",
              "      <td>0</td>\n",
              "    </tr>\n",
              "  </tbody>\n",
              "</table>\n",
              "</div><br><label><b>dtype:</b> int64</label>"
            ]
          },
          "metadata": {},
          "execution_count": 333
        }
      ]
    },
    {
      "cell_type": "code",
      "source": [
        "dfCS.isnull().sum()"
      ],
      "metadata": {
        "colab": {
          "base_uri": "https://localhost:8080/",
          "height": 868
        },
        "id": "NH55ia8m6VFI",
        "outputId": "e8dd3443-01d9-4992-f672-cbaf63d82820"
      },
      "execution_count": 334,
      "outputs": [
        {
          "output_type": "execute_result",
          "data": {
            "text/plain": [
              "Session ID          0\n",
              "User ID             0\n",
              "Dish Name           0\n",
              "Meal Type           0\n",
              "Session Start       0\n",
              "Session End         0\n",
              "Duration (mins)     0\n",
              "Session Rating      0\n",
              "Region              0\n",
              "Age                 0\n",
              "Time of Day         0\n",
              "Order Status        0\n",
              "                   16\n",
              "Time of Day.1      16\n",
              " .1                16\n",
              " .2                16\n",
              " .3                16\n",
              " .4                16\n",
              " .5                16\n",
              " .6                16\n",
              " .7                16\n",
              " .8                16\n",
              " .9                16\n",
              " .10               16\n",
              " .11               16\n",
              "dtype: int64"
            ],
            "text/html": [
              "<div>\n",
              "<style scoped>\n",
              "    .dataframe tbody tr th:only-of-type {\n",
              "        vertical-align: middle;\n",
              "    }\n",
              "\n",
              "    .dataframe tbody tr th {\n",
              "        vertical-align: top;\n",
              "    }\n",
              "\n",
              "    .dataframe thead th {\n",
              "        text-align: right;\n",
              "    }\n",
              "</style>\n",
              "<table border=\"1\" class=\"dataframe\">\n",
              "  <thead>\n",
              "    <tr style=\"text-align: right;\">\n",
              "      <th></th>\n",
              "      <th>0</th>\n",
              "    </tr>\n",
              "  </thead>\n",
              "  <tbody>\n",
              "    <tr>\n",
              "      <th>Session ID</th>\n",
              "      <td>0</td>\n",
              "    </tr>\n",
              "    <tr>\n",
              "      <th>User ID</th>\n",
              "      <td>0</td>\n",
              "    </tr>\n",
              "    <tr>\n",
              "      <th>Dish Name</th>\n",
              "      <td>0</td>\n",
              "    </tr>\n",
              "    <tr>\n",
              "      <th>Meal Type</th>\n",
              "      <td>0</td>\n",
              "    </tr>\n",
              "    <tr>\n",
              "      <th>Session Start</th>\n",
              "      <td>0</td>\n",
              "    </tr>\n",
              "    <tr>\n",
              "      <th>Session End</th>\n",
              "      <td>0</td>\n",
              "    </tr>\n",
              "    <tr>\n",
              "      <th>Duration (mins)</th>\n",
              "      <td>0</td>\n",
              "    </tr>\n",
              "    <tr>\n",
              "      <th>Session Rating</th>\n",
              "      <td>0</td>\n",
              "    </tr>\n",
              "    <tr>\n",
              "      <th>Region</th>\n",
              "      <td>0</td>\n",
              "    </tr>\n",
              "    <tr>\n",
              "      <th>Age</th>\n",
              "      <td>0</td>\n",
              "    </tr>\n",
              "    <tr>\n",
              "      <th>Time of Day</th>\n",
              "      <td>0</td>\n",
              "    </tr>\n",
              "    <tr>\n",
              "      <th>Order Status</th>\n",
              "      <td>0</td>\n",
              "    </tr>\n",
              "    <tr>\n",
              "      <th></th>\n",
              "      <td>16</td>\n",
              "    </tr>\n",
              "    <tr>\n",
              "      <th>Time of Day.1</th>\n",
              "      <td>16</td>\n",
              "    </tr>\n",
              "    <tr>\n",
              "      <th>.1</th>\n",
              "      <td>16</td>\n",
              "    </tr>\n",
              "    <tr>\n",
              "      <th>.2</th>\n",
              "      <td>16</td>\n",
              "    </tr>\n",
              "    <tr>\n",
              "      <th>.3</th>\n",
              "      <td>16</td>\n",
              "    </tr>\n",
              "    <tr>\n",
              "      <th>.4</th>\n",
              "      <td>16</td>\n",
              "    </tr>\n",
              "    <tr>\n",
              "      <th>.5</th>\n",
              "      <td>16</td>\n",
              "    </tr>\n",
              "    <tr>\n",
              "      <th>.6</th>\n",
              "      <td>16</td>\n",
              "    </tr>\n",
              "    <tr>\n",
              "      <th>.7</th>\n",
              "      <td>16</td>\n",
              "    </tr>\n",
              "    <tr>\n",
              "      <th>.8</th>\n",
              "      <td>16</td>\n",
              "    </tr>\n",
              "    <tr>\n",
              "      <th>.9</th>\n",
              "      <td>16</td>\n",
              "    </tr>\n",
              "    <tr>\n",
              "      <th>.10</th>\n",
              "      <td>16</td>\n",
              "    </tr>\n",
              "    <tr>\n",
              "      <th>.11</th>\n",
              "      <td>16</td>\n",
              "    </tr>\n",
              "  </tbody>\n",
              "</table>\n",
              "</div><br><label><b>dtype:</b> int64</label>"
            ]
          },
          "metadata": {},
          "execution_count": 334
        }
      ]
    },
    {
      "cell_type": "code",
      "source": [
        "dfOD.isnull().sum()"
      ],
      "metadata": {
        "colab": {
          "base_uri": "https://localhost:8080/",
          "height": 930
        },
        "id": "2G4_DkoM6Xum",
        "outputId": "a5973ba6-021d-49e6-dfa9-e581628ae765"
      },
      "execution_count": 335,
      "outputs": [
        {
          "output_type": "execute_result",
          "data": {
            "text/plain": [
              "Order ID         0\n",
              "User ID          0\n",
              "Location         0\n",
              "Order Date       0\n",
              "Meal Type        0\n",
              "Dish Name        0\n",
              "Order Status     0\n",
              "Amount (USD)     0\n",
              "Time of Day      0\n",
              "Rating           2\n",
              "Session ID       0\n",
              "Dish Name.1      0\n",
              "Total Order      0\n",
              "                16\n",
              " .1             16\n",
              " .2             16\n",
              " .3             16\n",
              " .4             16\n",
              " .5             16\n",
              " .6             16\n",
              " .7             16\n",
              " .8             16\n",
              " .9             16\n",
              " .10            16\n",
              " .11            16\n",
              " .12            16\n",
              " .13            16\n",
              "dtype: int64"
            ],
            "text/html": [
              "<div>\n",
              "<style scoped>\n",
              "    .dataframe tbody tr th:only-of-type {\n",
              "        vertical-align: middle;\n",
              "    }\n",
              "\n",
              "    .dataframe tbody tr th {\n",
              "        vertical-align: top;\n",
              "    }\n",
              "\n",
              "    .dataframe thead th {\n",
              "        text-align: right;\n",
              "    }\n",
              "</style>\n",
              "<table border=\"1\" class=\"dataframe\">\n",
              "  <thead>\n",
              "    <tr style=\"text-align: right;\">\n",
              "      <th></th>\n",
              "      <th>0</th>\n",
              "    </tr>\n",
              "  </thead>\n",
              "  <tbody>\n",
              "    <tr>\n",
              "      <th>Order ID</th>\n",
              "      <td>0</td>\n",
              "    </tr>\n",
              "    <tr>\n",
              "      <th>User ID</th>\n",
              "      <td>0</td>\n",
              "    </tr>\n",
              "    <tr>\n",
              "      <th>Location</th>\n",
              "      <td>0</td>\n",
              "    </tr>\n",
              "    <tr>\n",
              "      <th>Order Date</th>\n",
              "      <td>0</td>\n",
              "    </tr>\n",
              "    <tr>\n",
              "      <th>Meal Type</th>\n",
              "      <td>0</td>\n",
              "    </tr>\n",
              "    <tr>\n",
              "      <th>Dish Name</th>\n",
              "      <td>0</td>\n",
              "    </tr>\n",
              "    <tr>\n",
              "      <th>Order Status</th>\n",
              "      <td>0</td>\n",
              "    </tr>\n",
              "    <tr>\n",
              "      <th>Amount (USD)</th>\n",
              "      <td>0</td>\n",
              "    </tr>\n",
              "    <tr>\n",
              "      <th>Time of Day</th>\n",
              "      <td>0</td>\n",
              "    </tr>\n",
              "    <tr>\n",
              "      <th>Rating</th>\n",
              "      <td>2</td>\n",
              "    </tr>\n",
              "    <tr>\n",
              "      <th>Session ID</th>\n",
              "      <td>0</td>\n",
              "    </tr>\n",
              "    <tr>\n",
              "      <th>Dish Name.1</th>\n",
              "      <td>0</td>\n",
              "    </tr>\n",
              "    <tr>\n",
              "      <th>Total Order</th>\n",
              "      <td>0</td>\n",
              "    </tr>\n",
              "    <tr>\n",
              "      <th></th>\n",
              "      <td>16</td>\n",
              "    </tr>\n",
              "    <tr>\n",
              "      <th>.1</th>\n",
              "      <td>16</td>\n",
              "    </tr>\n",
              "    <tr>\n",
              "      <th>.2</th>\n",
              "      <td>16</td>\n",
              "    </tr>\n",
              "    <tr>\n",
              "      <th>.3</th>\n",
              "      <td>16</td>\n",
              "    </tr>\n",
              "    <tr>\n",
              "      <th>.4</th>\n",
              "      <td>16</td>\n",
              "    </tr>\n",
              "    <tr>\n",
              "      <th>.5</th>\n",
              "      <td>16</td>\n",
              "    </tr>\n",
              "    <tr>\n",
              "      <th>.6</th>\n",
              "      <td>16</td>\n",
              "    </tr>\n",
              "    <tr>\n",
              "      <th>.7</th>\n",
              "      <td>16</td>\n",
              "    </tr>\n",
              "    <tr>\n",
              "      <th>.8</th>\n",
              "      <td>16</td>\n",
              "    </tr>\n",
              "    <tr>\n",
              "      <th>.9</th>\n",
              "      <td>16</td>\n",
              "    </tr>\n",
              "    <tr>\n",
              "      <th>.10</th>\n",
              "      <td>16</td>\n",
              "    </tr>\n",
              "    <tr>\n",
              "      <th>.11</th>\n",
              "      <td>16</td>\n",
              "    </tr>\n",
              "    <tr>\n",
              "      <th>.12</th>\n",
              "      <td>16</td>\n",
              "    </tr>\n",
              "    <tr>\n",
              "      <th>.13</th>\n",
              "      <td>16</td>\n",
              "    </tr>\n",
              "  </tbody>\n",
              "</table>\n",
              "</div><br><label><b>dtype:</b> int64</label>"
            ]
          },
          "metadata": {},
          "execution_count": 335
        }
      ]
    },
    {
      "cell_type": "markdown",
      "source": [
        "**Handling missing values in the Rating Column**\n",
        "\n",
        "Missing data can be handled in any of the below ways:\n",
        "\n",
        "Exclude rows with missing Ratings\n",
        "Assign a placeholder value- e.g., 'Unknown/NaN'\n",
        "\n",
        "Impute missing values: impute missing values based on other information in the dataset (e.g., average/mean value)\n",
        "\n",
        "Drop the respective rows\n",
        "\n",
        "The choice of strategy depends on the specific requirements of the analysis and the available data.\n"
      ],
      "metadata": {
        "id": "OvhKd_vJ7zKo"
      }
    },
    {
      "cell_type": "code",
      "source": [
        "dfOD[[\"Order Status\", \"Rating\"]]"
      ],
      "metadata": {
        "colab": {
          "base_uri": "https://localhost:8080/",
          "height": 551
        },
        "id": "OCcLvcdv6aAq",
        "outputId": "8ba836af-f900-43c6-9c33-ff11bc57f2bb"
      },
      "execution_count": 336,
      "outputs": [
        {
          "output_type": "execute_result",
          "data": {
            "text/plain": [
              "   Order Status  Rating\n",
              "0     Completed     5.0\n",
              "1     Completed     4.0\n",
              "2      Canceled     NaN\n",
              "3     Completed     4.0\n",
              "4     Completed     4.0\n",
              "5     Completed     4.0\n",
              "6     Completed     4.0\n",
              "7      Canceled     NaN\n",
              "8     Completed     5.0\n",
              "9     Completed     4.0\n",
              "10    Completed     4.0\n",
              "11    Completed     4.0\n",
              "12    Completed     4.0\n",
              "13    Completed     5.0\n",
              "14    Completed     5.0\n",
              "15    Completed     4.0"
            ],
            "text/html": [
              "\n",
              "  <div id=\"df-14420d33-ac20-4da4-b2c9-418146892143\" class=\"colab-df-container\">\n",
              "    <div>\n",
              "<style scoped>\n",
              "    .dataframe tbody tr th:only-of-type {\n",
              "        vertical-align: middle;\n",
              "    }\n",
              "\n",
              "    .dataframe tbody tr th {\n",
              "        vertical-align: top;\n",
              "    }\n",
              "\n",
              "    .dataframe thead th {\n",
              "        text-align: right;\n",
              "    }\n",
              "</style>\n",
              "<table border=\"1\" class=\"dataframe\">\n",
              "  <thead>\n",
              "    <tr style=\"text-align: right;\">\n",
              "      <th></th>\n",
              "      <th>Order Status</th>\n",
              "      <th>Rating</th>\n",
              "    </tr>\n",
              "  </thead>\n",
              "  <tbody>\n",
              "    <tr>\n",
              "      <th>0</th>\n",
              "      <td>Completed</td>\n",
              "      <td>5.0</td>\n",
              "    </tr>\n",
              "    <tr>\n",
              "      <th>1</th>\n",
              "      <td>Completed</td>\n",
              "      <td>4.0</td>\n",
              "    </tr>\n",
              "    <tr>\n",
              "      <th>2</th>\n",
              "      <td>Canceled</td>\n",
              "      <td>NaN</td>\n",
              "    </tr>\n",
              "    <tr>\n",
              "      <th>3</th>\n",
              "      <td>Completed</td>\n",
              "      <td>4.0</td>\n",
              "    </tr>\n",
              "    <tr>\n",
              "      <th>4</th>\n",
              "      <td>Completed</td>\n",
              "      <td>4.0</td>\n",
              "    </tr>\n",
              "    <tr>\n",
              "      <th>5</th>\n",
              "      <td>Completed</td>\n",
              "      <td>4.0</td>\n",
              "    </tr>\n",
              "    <tr>\n",
              "      <th>6</th>\n",
              "      <td>Completed</td>\n",
              "      <td>4.0</td>\n",
              "    </tr>\n",
              "    <tr>\n",
              "      <th>7</th>\n",
              "      <td>Canceled</td>\n",
              "      <td>NaN</td>\n",
              "    </tr>\n",
              "    <tr>\n",
              "      <th>8</th>\n",
              "      <td>Completed</td>\n",
              "      <td>5.0</td>\n",
              "    </tr>\n",
              "    <tr>\n",
              "      <th>9</th>\n",
              "      <td>Completed</td>\n",
              "      <td>4.0</td>\n",
              "    </tr>\n",
              "    <tr>\n",
              "      <th>10</th>\n",
              "      <td>Completed</td>\n",
              "      <td>4.0</td>\n",
              "    </tr>\n",
              "    <tr>\n",
              "      <th>11</th>\n",
              "      <td>Completed</td>\n",
              "      <td>4.0</td>\n",
              "    </tr>\n",
              "    <tr>\n",
              "      <th>12</th>\n",
              "      <td>Completed</td>\n",
              "      <td>4.0</td>\n",
              "    </tr>\n",
              "    <tr>\n",
              "      <th>13</th>\n",
              "      <td>Completed</td>\n",
              "      <td>5.0</td>\n",
              "    </tr>\n",
              "    <tr>\n",
              "      <th>14</th>\n",
              "      <td>Completed</td>\n",
              "      <td>5.0</td>\n",
              "    </tr>\n",
              "    <tr>\n",
              "      <th>15</th>\n",
              "      <td>Completed</td>\n",
              "      <td>4.0</td>\n",
              "    </tr>\n",
              "  </tbody>\n",
              "</table>\n",
              "</div>\n",
              "    <div class=\"colab-df-buttons\">\n",
              "\n",
              "  <div class=\"colab-df-container\">\n",
              "    <button class=\"colab-df-convert\" onclick=\"convertToInteractive('df-14420d33-ac20-4da4-b2c9-418146892143')\"\n",
              "            title=\"Convert this dataframe to an interactive table.\"\n",
              "            style=\"display:none;\">\n",
              "\n",
              "  <svg xmlns=\"http://www.w3.org/2000/svg\" height=\"24px\" viewBox=\"0 -960 960 960\">\n",
              "    <path d=\"M120-120v-720h720v720H120Zm60-500h600v-160H180v160Zm220 220h160v-160H400v160Zm0 220h160v-160H400v160ZM180-400h160v-160H180v160Zm440 0h160v-160H620v160ZM180-180h160v-160H180v160Zm440 0h160v-160H620v160Z\"/>\n",
              "  </svg>\n",
              "    </button>\n",
              "\n",
              "  <style>\n",
              "    .colab-df-container {\n",
              "      display:flex;\n",
              "      gap: 12px;\n",
              "    }\n",
              "\n",
              "    .colab-df-convert {\n",
              "      background-color: #E8F0FE;\n",
              "      border: none;\n",
              "      border-radius: 50%;\n",
              "      cursor: pointer;\n",
              "      display: none;\n",
              "      fill: #1967D2;\n",
              "      height: 32px;\n",
              "      padding: 0 0 0 0;\n",
              "      width: 32px;\n",
              "    }\n",
              "\n",
              "    .colab-df-convert:hover {\n",
              "      background-color: #E2EBFA;\n",
              "      box-shadow: 0px 1px 2px rgba(60, 64, 67, 0.3), 0px 1px 3px 1px rgba(60, 64, 67, 0.15);\n",
              "      fill: #174EA6;\n",
              "    }\n",
              "\n",
              "    .colab-df-buttons div {\n",
              "      margin-bottom: 4px;\n",
              "    }\n",
              "\n",
              "    [theme=dark] .colab-df-convert {\n",
              "      background-color: #3B4455;\n",
              "      fill: #D2E3FC;\n",
              "    }\n",
              "\n",
              "    [theme=dark] .colab-df-convert:hover {\n",
              "      background-color: #434B5C;\n",
              "      box-shadow: 0px 1px 3px 1px rgba(0, 0, 0, 0.15);\n",
              "      filter: drop-shadow(0px 1px 2px rgba(0, 0, 0, 0.3));\n",
              "      fill: #FFFFFF;\n",
              "    }\n",
              "  </style>\n",
              "\n",
              "    <script>\n",
              "      const buttonEl =\n",
              "        document.querySelector('#df-14420d33-ac20-4da4-b2c9-418146892143 button.colab-df-convert');\n",
              "      buttonEl.style.display =\n",
              "        google.colab.kernel.accessAllowed ? 'block' : 'none';\n",
              "\n",
              "      async function convertToInteractive(key) {\n",
              "        const element = document.querySelector('#df-14420d33-ac20-4da4-b2c9-418146892143');\n",
              "        const dataTable =\n",
              "          await google.colab.kernel.invokeFunction('convertToInteractive',\n",
              "                                                    [key], {});\n",
              "        if (!dataTable) return;\n",
              "\n",
              "        const docLinkHtml = 'Like what you see? Visit the ' +\n",
              "          '<a target=\"_blank\" href=https://colab.research.google.com/notebooks/data_table.ipynb>data table notebook</a>'\n",
              "          + ' to learn more about interactive tables.';\n",
              "        element.innerHTML = '';\n",
              "        dataTable['output_type'] = 'display_data';\n",
              "        await google.colab.output.renderOutput(dataTable, element);\n",
              "        const docLink = document.createElement('div');\n",
              "        docLink.innerHTML = docLinkHtml;\n",
              "        element.appendChild(docLink);\n",
              "      }\n",
              "    </script>\n",
              "  </div>\n",
              "\n",
              "\n",
              "<div id=\"df-c15fb7d1-fd2d-4728-b73f-e0f1bc723b30\">\n",
              "  <button class=\"colab-df-quickchart\" onclick=\"quickchart('df-c15fb7d1-fd2d-4728-b73f-e0f1bc723b30')\"\n",
              "            title=\"Suggest charts\"\n",
              "            style=\"display:none;\">\n",
              "\n",
              "<svg xmlns=\"http://www.w3.org/2000/svg\" height=\"24px\"viewBox=\"0 0 24 24\"\n",
              "     width=\"24px\">\n",
              "    <g>\n",
              "        <path d=\"M19 3H5c-1.1 0-2 .9-2 2v14c0 1.1.9 2 2 2h14c1.1 0 2-.9 2-2V5c0-1.1-.9-2-2-2zM9 17H7v-7h2v7zm4 0h-2V7h2v10zm4 0h-2v-4h2v4z\"/>\n",
              "    </g>\n",
              "</svg>\n",
              "  </button>\n",
              "\n",
              "<style>\n",
              "  .colab-df-quickchart {\n",
              "      --bg-color: #E8F0FE;\n",
              "      --fill-color: #1967D2;\n",
              "      --hover-bg-color: #E2EBFA;\n",
              "      --hover-fill-color: #174EA6;\n",
              "      --disabled-fill-color: #AAA;\n",
              "      --disabled-bg-color: #DDD;\n",
              "  }\n",
              "\n",
              "  [theme=dark] .colab-df-quickchart {\n",
              "      --bg-color: #3B4455;\n",
              "      --fill-color: #D2E3FC;\n",
              "      --hover-bg-color: #434B5C;\n",
              "      --hover-fill-color: #FFFFFF;\n",
              "      --disabled-bg-color: #3B4455;\n",
              "      --disabled-fill-color: #666;\n",
              "  }\n",
              "\n",
              "  .colab-df-quickchart {\n",
              "    background-color: var(--bg-color);\n",
              "    border: none;\n",
              "    border-radius: 50%;\n",
              "    cursor: pointer;\n",
              "    display: none;\n",
              "    fill: var(--fill-color);\n",
              "    height: 32px;\n",
              "    padding: 0;\n",
              "    width: 32px;\n",
              "  }\n",
              "\n",
              "  .colab-df-quickchart:hover {\n",
              "    background-color: var(--hover-bg-color);\n",
              "    box-shadow: 0 1px 2px rgba(60, 64, 67, 0.3), 0 1px 3px 1px rgba(60, 64, 67, 0.15);\n",
              "    fill: var(--button-hover-fill-color);\n",
              "  }\n",
              "\n",
              "  .colab-df-quickchart-complete:disabled,\n",
              "  .colab-df-quickchart-complete:disabled:hover {\n",
              "    background-color: var(--disabled-bg-color);\n",
              "    fill: var(--disabled-fill-color);\n",
              "    box-shadow: none;\n",
              "  }\n",
              "\n",
              "  .colab-df-spinner {\n",
              "    border: 2px solid var(--fill-color);\n",
              "    border-color: transparent;\n",
              "    border-bottom-color: var(--fill-color);\n",
              "    animation:\n",
              "      spin 1s steps(1) infinite;\n",
              "  }\n",
              "\n",
              "  @keyframes spin {\n",
              "    0% {\n",
              "      border-color: transparent;\n",
              "      border-bottom-color: var(--fill-color);\n",
              "      border-left-color: var(--fill-color);\n",
              "    }\n",
              "    20% {\n",
              "      border-color: transparent;\n",
              "      border-left-color: var(--fill-color);\n",
              "      border-top-color: var(--fill-color);\n",
              "    }\n",
              "    30% {\n",
              "      border-color: transparent;\n",
              "      border-left-color: var(--fill-color);\n",
              "      border-top-color: var(--fill-color);\n",
              "      border-right-color: var(--fill-color);\n",
              "    }\n",
              "    40% {\n",
              "      border-color: transparent;\n",
              "      border-right-color: var(--fill-color);\n",
              "      border-top-color: var(--fill-color);\n",
              "    }\n",
              "    60% {\n",
              "      border-color: transparent;\n",
              "      border-right-color: var(--fill-color);\n",
              "    }\n",
              "    80% {\n",
              "      border-color: transparent;\n",
              "      border-right-color: var(--fill-color);\n",
              "      border-bottom-color: var(--fill-color);\n",
              "    }\n",
              "    90% {\n",
              "      border-color: transparent;\n",
              "      border-bottom-color: var(--fill-color);\n",
              "    }\n",
              "  }\n",
              "</style>\n",
              "\n",
              "  <script>\n",
              "    async function quickchart(key) {\n",
              "      const quickchartButtonEl =\n",
              "        document.querySelector('#' + key + ' button');\n",
              "      quickchartButtonEl.disabled = true;  // To prevent multiple clicks.\n",
              "      quickchartButtonEl.classList.add('colab-df-spinner');\n",
              "      try {\n",
              "        const charts = await google.colab.kernel.invokeFunction(\n",
              "            'suggestCharts', [key], {});\n",
              "      } catch (error) {\n",
              "        console.error('Error during call to suggestCharts:', error);\n",
              "      }\n",
              "      quickchartButtonEl.classList.remove('colab-df-spinner');\n",
              "      quickchartButtonEl.classList.add('colab-df-quickchart-complete');\n",
              "    }\n",
              "    (() => {\n",
              "      let quickchartButtonEl =\n",
              "        document.querySelector('#df-c15fb7d1-fd2d-4728-b73f-e0f1bc723b30 button');\n",
              "      quickchartButtonEl.style.display =\n",
              "        google.colab.kernel.accessAllowed ? 'block' : 'none';\n",
              "    })();\n",
              "  </script>\n",
              "</div>\n",
              "\n",
              "    </div>\n",
              "  </div>\n"
            ],
            "application/vnd.google.colaboratory.intrinsic+json": {
              "type": "dataframe",
              "summary": "{\n  \"name\": \"dfOD[[\\\"Order Status\\\", \\\"Rating\\\"]]\",\n  \"rows\": 16,\n  \"fields\": [\n    {\n      \"column\": \"Order Status\",\n      \"properties\": {\n        \"dtype\": \"category\",\n        \"num_unique_values\": 2,\n        \"samples\": [\n          \"Canceled\",\n          \"Completed\"\n        ],\n        \"semantic_type\": \"\",\n        \"description\": \"\"\n      }\n    },\n    {\n      \"column\": \"Rating\",\n      \"properties\": {\n        \"dtype\": \"number\",\n        \"std\": 0.4688072309384954,\n        \"min\": 4.0,\n        \"max\": 5.0,\n        \"num_unique_values\": 2,\n        \"samples\": [\n          4.0,\n          5.0\n        ],\n        \"semantic_type\": \"\",\n        \"description\": \"\"\n      }\n    }\n  ]\n}"
            }
          },
          "metadata": {},
          "execution_count": 336
        }
      ]
    },
    {
      "cell_type": "markdown",
      "source": [
        "After understanding the above scenario, the null values under the column 'Rating' can be ignored as those ratings are for canceled orders.\n",
        "\n",
        "Any which way those entries are filled with NaN"
      ],
      "metadata": {
        "id": "u4Xl-_Al-x16"
      }
    },
    {
      "cell_type": "code",
      "source": [
        "summary_with_customerid = dfOD.describe()\n",
        "summary_with_customerid"
      ],
      "metadata": {
        "colab": {
          "base_uri": "https://localhost:8080/",
          "height": 300
        },
        "id": "W2VIq5xZ_EK-",
        "outputId": "94c4a7e7-f95a-4d98-b174-0778362f29ee"
      },
      "execution_count": 337,
      "outputs": [
        {
          "output_type": "execute_result",
          "data": {
            "text/plain": [
              "          Order ID           Order Date  Amount (USD)     Rating  Total Order  \\\n",
              "count    16.000000                   16     16.000000  14.000000    16.000000   \n",
              "mean   1008.500000  2024-12-04 12:00:00     11.250000   4.285714    10.562500   \n",
              "min    1001.000000  2024-12-01 00:00:00      7.000000   4.000000     5.000000   \n",
              "25%    1004.750000  2024-12-02 18:00:00      9.000000   4.000000     8.000000   \n",
              "50%    1008.500000  2024-12-04 12:00:00     11.500000   4.000000    10.000000   \n",
              "75%    1012.250000  2024-12-06 06:00:00     13.125000   4.750000    12.500000   \n",
              "max    1016.000000  2024-12-08 00:00:00     15.000000   5.000000    15.000000   \n",
              "std       4.760952                  NaN      2.435843   0.468807     3.119161   \n",
              "\n",
              "             .1   .2   .3   .4   .5   .6   .7   .8   .9   .10   .11   .12  \\\n",
              "count  0.0  0.0  0.0  0.0  0.0  0.0  0.0  0.0  0.0  0.0   0.0   0.0   0.0   \n",
              "mean   NaN  NaN  NaN  NaN  NaN  NaN  NaN  NaN  NaN  NaN   NaN   NaN   NaN   \n",
              "min    NaN  NaN  NaN  NaN  NaN  NaN  NaN  NaN  NaN  NaN   NaN   NaN   NaN   \n",
              "25%    NaN  NaN  NaN  NaN  NaN  NaN  NaN  NaN  NaN  NaN   NaN   NaN   NaN   \n",
              "50%    NaN  NaN  NaN  NaN  NaN  NaN  NaN  NaN  NaN  NaN   NaN   NaN   NaN   \n",
              "75%    NaN  NaN  NaN  NaN  NaN  NaN  NaN  NaN  NaN  NaN   NaN   NaN   NaN   \n",
              "max    NaN  NaN  NaN  NaN  NaN  NaN  NaN  NaN  NaN  NaN   NaN   NaN   NaN   \n",
              "std    NaN  NaN  NaN  NaN  NaN  NaN  NaN  NaN  NaN  NaN   NaN   NaN   NaN   \n",
              "\n",
              "        .13  \n",
              "count   0.0  \n",
              "mean    NaN  \n",
              "min     NaN  \n",
              "25%     NaN  \n",
              "50%     NaN  \n",
              "75%     NaN  \n",
              "max     NaN  \n",
              "std     NaN  "
            ],
            "text/html": [
              "\n",
              "  <div id=\"df-58598762-6526-4508-89f5-9405d895851a\" class=\"colab-df-container\">\n",
              "    <div>\n",
              "<style scoped>\n",
              "    .dataframe tbody tr th:only-of-type {\n",
              "        vertical-align: middle;\n",
              "    }\n",
              "\n",
              "    .dataframe tbody tr th {\n",
              "        vertical-align: top;\n",
              "    }\n",
              "\n",
              "    .dataframe thead th {\n",
              "        text-align: right;\n",
              "    }\n",
              "</style>\n",
              "<table border=\"1\" class=\"dataframe\">\n",
              "  <thead>\n",
              "    <tr style=\"text-align: right;\">\n",
              "      <th></th>\n",
              "      <th>Order ID</th>\n",
              "      <th>Order Date</th>\n",
              "      <th>Amount (USD)</th>\n",
              "      <th>Rating</th>\n",
              "      <th>Total Order</th>\n",
              "      <th></th>\n",
              "      <th>.1</th>\n",
              "      <th>.2</th>\n",
              "      <th>.3</th>\n",
              "      <th>.4</th>\n",
              "      <th>.5</th>\n",
              "      <th>.6</th>\n",
              "      <th>.7</th>\n",
              "      <th>.8</th>\n",
              "      <th>.9</th>\n",
              "      <th>.10</th>\n",
              "      <th>.11</th>\n",
              "      <th>.12</th>\n",
              "      <th>.13</th>\n",
              "    </tr>\n",
              "  </thead>\n",
              "  <tbody>\n",
              "    <tr>\n",
              "      <th>count</th>\n",
              "      <td>16.000000</td>\n",
              "      <td>16</td>\n",
              "      <td>16.000000</td>\n",
              "      <td>14.000000</td>\n",
              "      <td>16.000000</td>\n",
              "      <td>0.0</td>\n",
              "      <td>0.0</td>\n",
              "      <td>0.0</td>\n",
              "      <td>0.0</td>\n",
              "      <td>0.0</td>\n",
              "      <td>0.0</td>\n",
              "      <td>0.0</td>\n",
              "      <td>0.0</td>\n",
              "      <td>0.0</td>\n",
              "      <td>0.0</td>\n",
              "      <td>0.0</td>\n",
              "      <td>0.0</td>\n",
              "      <td>0.0</td>\n",
              "      <td>0.0</td>\n",
              "    </tr>\n",
              "    <tr>\n",
              "      <th>mean</th>\n",
              "      <td>1008.500000</td>\n",
              "      <td>2024-12-04 12:00:00</td>\n",
              "      <td>11.250000</td>\n",
              "      <td>4.285714</td>\n",
              "      <td>10.562500</td>\n",
              "      <td>NaN</td>\n",
              "      <td>NaN</td>\n",
              "      <td>NaN</td>\n",
              "      <td>NaN</td>\n",
              "      <td>NaN</td>\n",
              "      <td>NaN</td>\n",
              "      <td>NaN</td>\n",
              "      <td>NaN</td>\n",
              "      <td>NaN</td>\n",
              "      <td>NaN</td>\n",
              "      <td>NaN</td>\n",
              "      <td>NaN</td>\n",
              "      <td>NaN</td>\n",
              "      <td>NaN</td>\n",
              "    </tr>\n",
              "    <tr>\n",
              "      <th>min</th>\n",
              "      <td>1001.000000</td>\n",
              "      <td>2024-12-01 00:00:00</td>\n",
              "      <td>7.000000</td>\n",
              "      <td>4.000000</td>\n",
              "      <td>5.000000</td>\n",
              "      <td>NaN</td>\n",
              "      <td>NaN</td>\n",
              "      <td>NaN</td>\n",
              "      <td>NaN</td>\n",
              "      <td>NaN</td>\n",
              "      <td>NaN</td>\n",
              "      <td>NaN</td>\n",
              "      <td>NaN</td>\n",
              "      <td>NaN</td>\n",
              "      <td>NaN</td>\n",
              "      <td>NaN</td>\n",
              "      <td>NaN</td>\n",
              "      <td>NaN</td>\n",
              "      <td>NaN</td>\n",
              "    </tr>\n",
              "    <tr>\n",
              "      <th>25%</th>\n",
              "      <td>1004.750000</td>\n",
              "      <td>2024-12-02 18:00:00</td>\n",
              "      <td>9.000000</td>\n",
              "      <td>4.000000</td>\n",
              "      <td>8.000000</td>\n",
              "      <td>NaN</td>\n",
              "      <td>NaN</td>\n",
              "      <td>NaN</td>\n",
              "      <td>NaN</td>\n",
              "      <td>NaN</td>\n",
              "      <td>NaN</td>\n",
              "      <td>NaN</td>\n",
              "      <td>NaN</td>\n",
              "      <td>NaN</td>\n",
              "      <td>NaN</td>\n",
              "      <td>NaN</td>\n",
              "      <td>NaN</td>\n",
              "      <td>NaN</td>\n",
              "      <td>NaN</td>\n",
              "    </tr>\n",
              "    <tr>\n",
              "      <th>50%</th>\n",
              "      <td>1008.500000</td>\n",
              "      <td>2024-12-04 12:00:00</td>\n",
              "      <td>11.500000</td>\n",
              "      <td>4.000000</td>\n",
              "      <td>10.000000</td>\n",
              "      <td>NaN</td>\n",
              "      <td>NaN</td>\n",
              "      <td>NaN</td>\n",
              "      <td>NaN</td>\n",
              "      <td>NaN</td>\n",
              "      <td>NaN</td>\n",
              "      <td>NaN</td>\n",
              "      <td>NaN</td>\n",
              "      <td>NaN</td>\n",
              "      <td>NaN</td>\n",
              "      <td>NaN</td>\n",
              "      <td>NaN</td>\n",
              "      <td>NaN</td>\n",
              "      <td>NaN</td>\n",
              "    </tr>\n",
              "    <tr>\n",
              "      <th>75%</th>\n",
              "      <td>1012.250000</td>\n",
              "      <td>2024-12-06 06:00:00</td>\n",
              "      <td>13.125000</td>\n",
              "      <td>4.750000</td>\n",
              "      <td>12.500000</td>\n",
              "      <td>NaN</td>\n",
              "      <td>NaN</td>\n",
              "      <td>NaN</td>\n",
              "      <td>NaN</td>\n",
              "      <td>NaN</td>\n",
              "      <td>NaN</td>\n",
              "      <td>NaN</td>\n",
              "      <td>NaN</td>\n",
              "      <td>NaN</td>\n",
              "      <td>NaN</td>\n",
              "      <td>NaN</td>\n",
              "      <td>NaN</td>\n",
              "      <td>NaN</td>\n",
              "      <td>NaN</td>\n",
              "    </tr>\n",
              "    <tr>\n",
              "      <th>max</th>\n",
              "      <td>1016.000000</td>\n",
              "      <td>2024-12-08 00:00:00</td>\n",
              "      <td>15.000000</td>\n",
              "      <td>5.000000</td>\n",
              "      <td>15.000000</td>\n",
              "      <td>NaN</td>\n",
              "      <td>NaN</td>\n",
              "      <td>NaN</td>\n",
              "      <td>NaN</td>\n",
              "      <td>NaN</td>\n",
              "      <td>NaN</td>\n",
              "      <td>NaN</td>\n",
              "      <td>NaN</td>\n",
              "      <td>NaN</td>\n",
              "      <td>NaN</td>\n",
              "      <td>NaN</td>\n",
              "      <td>NaN</td>\n",
              "      <td>NaN</td>\n",
              "      <td>NaN</td>\n",
              "    </tr>\n",
              "    <tr>\n",
              "      <th>std</th>\n",
              "      <td>4.760952</td>\n",
              "      <td>NaN</td>\n",
              "      <td>2.435843</td>\n",
              "      <td>0.468807</td>\n",
              "      <td>3.119161</td>\n",
              "      <td>NaN</td>\n",
              "      <td>NaN</td>\n",
              "      <td>NaN</td>\n",
              "      <td>NaN</td>\n",
              "      <td>NaN</td>\n",
              "      <td>NaN</td>\n",
              "      <td>NaN</td>\n",
              "      <td>NaN</td>\n",
              "      <td>NaN</td>\n",
              "      <td>NaN</td>\n",
              "      <td>NaN</td>\n",
              "      <td>NaN</td>\n",
              "      <td>NaN</td>\n",
              "      <td>NaN</td>\n",
              "    </tr>\n",
              "  </tbody>\n",
              "</table>\n",
              "</div>\n",
              "    <div class=\"colab-df-buttons\">\n",
              "\n",
              "  <div class=\"colab-df-container\">\n",
              "    <button class=\"colab-df-convert\" onclick=\"convertToInteractive('df-58598762-6526-4508-89f5-9405d895851a')\"\n",
              "            title=\"Convert this dataframe to an interactive table.\"\n",
              "            style=\"display:none;\">\n",
              "\n",
              "  <svg xmlns=\"http://www.w3.org/2000/svg\" height=\"24px\" viewBox=\"0 -960 960 960\">\n",
              "    <path d=\"M120-120v-720h720v720H120Zm60-500h600v-160H180v160Zm220 220h160v-160H400v160Zm0 220h160v-160H400v160ZM180-400h160v-160H180v160Zm440 0h160v-160H620v160ZM180-180h160v-160H180v160Zm440 0h160v-160H620v160Z\"/>\n",
              "  </svg>\n",
              "    </button>\n",
              "\n",
              "  <style>\n",
              "    .colab-df-container {\n",
              "      display:flex;\n",
              "      gap: 12px;\n",
              "    }\n",
              "\n",
              "    .colab-df-convert {\n",
              "      background-color: #E8F0FE;\n",
              "      border: none;\n",
              "      border-radius: 50%;\n",
              "      cursor: pointer;\n",
              "      display: none;\n",
              "      fill: #1967D2;\n",
              "      height: 32px;\n",
              "      padding: 0 0 0 0;\n",
              "      width: 32px;\n",
              "    }\n",
              "\n",
              "    .colab-df-convert:hover {\n",
              "      background-color: #E2EBFA;\n",
              "      box-shadow: 0px 1px 2px rgba(60, 64, 67, 0.3), 0px 1px 3px 1px rgba(60, 64, 67, 0.15);\n",
              "      fill: #174EA6;\n",
              "    }\n",
              "\n",
              "    .colab-df-buttons div {\n",
              "      margin-bottom: 4px;\n",
              "    }\n",
              "\n",
              "    [theme=dark] .colab-df-convert {\n",
              "      background-color: #3B4455;\n",
              "      fill: #D2E3FC;\n",
              "    }\n",
              "\n",
              "    [theme=dark] .colab-df-convert:hover {\n",
              "      background-color: #434B5C;\n",
              "      box-shadow: 0px 1px 3px 1px rgba(0, 0, 0, 0.15);\n",
              "      filter: drop-shadow(0px 1px 2px rgba(0, 0, 0, 0.3));\n",
              "      fill: #FFFFFF;\n",
              "    }\n",
              "  </style>\n",
              "\n",
              "    <script>\n",
              "      const buttonEl =\n",
              "        document.querySelector('#df-58598762-6526-4508-89f5-9405d895851a button.colab-df-convert');\n",
              "      buttonEl.style.display =\n",
              "        google.colab.kernel.accessAllowed ? 'block' : 'none';\n",
              "\n",
              "      async function convertToInteractive(key) {\n",
              "        const element = document.querySelector('#df-58598762-6526-4508-89f5-9405d895851a');\n",
              "        const dataTable =\n",
              "          await google.colab.kernel.invokeFunction('convertToInteractive',\n",
              "                                                    [key], {});\n",
              "        if (!dataTable) return;\n",
              "\n",
              "        const docLinkHtml = 'Like what you see? Visit the ' +\n",
              "          '<a target=\"_blank\" href=https://colab.research.google.com/notebooks/data_table.ipynb>data table notebook</a>'\n",
              "          + ' to learn more about interactive tables.';\n",
              "        element.innerHTML = '';\n",
              "        dataTable['output_type'] = 'display_data';\n",
              "        await google.colab.output.renderOutput(dataTable, element);\n",
              "        const docLink = document.createElement('div');\n",
              "        docLink.innerHTML = docLinkHtml;\n",
              "        element.appendChild(docLink);\n",
              "      }\n",
              "    </script>\n",
              "  </div>\n",
              "\n",
              "\n",
              "<div id=\"df-7f874e2b-2aed-4d81-b55d-f610cc083118\">\n",
              "  <button class=\"colab-df-quickchart\" onclick=\"quickchart('df-7f874e2b-2aed-4d81-b55d-f610cc083118')\"\n",
              "            title=\"Suggest charts\"\n",
              "            style=\"display:none;\">\n",
              "\n",
              "<svg xmlns=\"http://www.w3.org/2000/svg\" height=\"24px\"viewBox=\"0 0 24 24\"\n",
              "     width=\"24px\">\n",
              "    <g>\n",
              "        <path d=\"M19 3H5c-1.1 0-2 .9-2 2v14c0 1.1.9 2 2 2h14c1.1 0 2-.9 2-2V5c0-1.1-.9-2-2-2zM9 17H7v-7h2v7zm4 0h-2V7h2v10zm4 0h-2v-4h2v4z\"/>\n",
              "    </g>\n",
              "</svg>\n",
              "  </button>\n",
              "\n",
              "<style>\n",
              "  .colab-df-quickchart {\n",
              "      --bg-color: #E8F0FE;\n",
              "      --fill-color: #1967D2;\n",
              "      --hover-bg-color: #E2EBFA;\n",
              "      --hover-fill-color: #174EA6;\n",
              "      --disabled-fill-color: #AAA;\n",
              "      --disabled-bg-color: #DDD;\n",
              "  }\n",
              "\n",
              "  [theme=dark] .colab-df-quickchart {\n",
              "      --bg-color: #3B4455;\n",
              "      --fill-color: #D2E3FC;\n",
              "      --hover-bg-color: #434B5C;\n",
              "      --hover-fill-color: #FFFFFF;\n",
              "      --disabled-bg-color: #3B4455;\n",
              "      --disabled-fill-color: #666;\n",
              "  }\n",
              "\n",
              "  .colab-df-quickchart {\n",
              "    background-color: var(--bg-color);\n",
              "    border: none;\n",
              "    border-radius: 50%;\n",
              "    cursor: pointer;\n",
              "    display: none;\n",
              "    fill: var(--fill-color);\n",
              "    height: 32px;\n",
              "    padding: 0;\n",
              "    width: 32px;\n",
              "  }\n",
              "\n",
              "  .colab-df-quickchart:hover {\n",
              "    background-color: var(--hover-bg-color);\n",
              "    box-shadow: 0 1px 2px rgba(60, 64, 67, 0.3), 0 1px 3px 1px rgba(60, 64, 67, 0.15);\n",
              "    fill: var(--button-hover-fill-color);\n",
              "  }\n",
              "\n",
              "  .colab-df-quickchart-complete:disabled,\n",
              "  .colab-df-quickchart-complete:disabled:hover {\n",
              "    background-color: var(--disabled-bg-color);\n",
              "    fill: var(--disabled-fill-color);\n",
              "    box-shadow: none;\n",
              "  }\n",
              "\n",
              "  .colab-df-spinner {\n",
              "    border: 2px solid var(--fill-color);\n",
              "    border-color: transparent;\n",
              "    border-bottom-color: var(--fill-color);\n",
              "    animation:\n",
              "      spin 1s steps(1) infinite;\n",
              "  }\n",
              "\n",
              "  @keyframes spin {\n",
              "    0% {\n",
              "      border-color: transparent;\n",
              "      border-bottom-color: var(--fill-color);\n",
              "      border-left-color: var(--fill-color);\n",
              "    }\n",
              "    20% {\n",
              "      border-color: transparent;\n",
              "      border-left-color: var(--fill-color);\n",
              "      border-top-color: var(--fill-color);\n",
              "    }\n",
              "    30% {\n",
              "      border-color: transparent;\n",
              "      border-left-color: var(--fill-color);\n",
              "      border-top-color: var(--fill-color);\n",
              "      border-right-color: var(--fill-color);\n",
              "    }\n",
              "    40% {\n",
              "      border-color: transparent;\n",
              "      border-right-color: var(--fill-color);\n",
              "      border-top-color: var(--fill-color);\n",
              "    }\n",
              "    60% {\n",
              "      border-color: transparent;\n",
              "      border-right-color: var(--fill-color);\n",
              "    }\n",
              "    80% {\n",
              "      border-color: transparent;\n",
              "      border-right-color: var(--fill-color);\n",
              "      border-bottom-color: var(--fill-color);\n",
              "    }\n",
              "    90% {\n",
              "      border-color: transparent;\n",
              "      border-bottom-color: var(--fill-color);\n",
              "    }\n",
              "  }\n",
              "</style>\n",
              "\n",
              "  <script>\n",
              "    async function quickchart(key) {\n",
              "      const quickchartButtonEl =\n",
              "        document.querySelector('#' + key + ' button');\n",
              "      quickchartButtonEl.disabled = true;  // To prevent multiple clicks.\n",
              "      quickchartButtonEl.classList.add('colab-df-spinner');\n",
              "      try {\n",
              "        const charts = await google.colab.kernel.invokeFunction(\n",
              "            'suggestCharts', [key], {});\n",
              "      } catch (error) {\n",
              "        console.error('Error during call to suggestCharts:', error);\n",
              "      }\n",
              "      quickchartButtonEl.classList.remove('colab-df-spinner');\n",
              "      quickchartButtonEl.classList.add('colab-df-quickchart-complete');\n",
              "    }\n",
              "    (() => {\n",
              "      let quickchartButtonEl =\n",
              "        document.querySelector('#df-7f874e2b-2aed-4d81-b55d-f610cc083118 button');\n",
              "      quickchartButtonEl.style.display =\n",
              "        google.colab.kernel.accessAllowed ? 'block' : 'none';\n",
              "    })();\n",
              "  </script>\n",
              "</div>\n",
              "\n",
              "  <div id=\"id_70555252-d449-4a8b-a03a-0d6b437884c6\">\n",
              "    <style>\n",
              "      .colab-df-generate {\n",
              "        background-color: #E8F0FE;\n",
              "        border: none;\n",
              "        border-radius: 50%;\n",
              "        cursor: pointer;\n",
              "        display: none;\n",
              "        fill: #1967D2;\n",
              "        height: 32px;\n",
              "        padding: 0 0 0 0;\n",
              "        width: 32px;\n",
              "      }\n",
              "\n",
              "      .colab-df-generate:hover {\n",
              "        background-color: #E2EBFA;\n",
              "        box-shadow: 0px 1px 2px rgba(60, 64, 67, 0.3), 0px 1px 3px 1px rgba(60, 64, 67, 0.15);\n",
              "        fill: #174EA6;\n",
              "      }\n",
              "\n",
              "      [theme=dark] .colab-df-generate {\n",
              "        background-color: #3B4455;\n",
              "        fill: #D2E3FC;\n",
              "      }\n",
              "\n",
              "      [theme=dark] .colab-df-generate:hover {\n",
              "        background-color: #434B5C;\n",
              "        box-shadow: 0px 1px 3px 1px rgba(0, 0, 0, 0.15);\n",
              "        filter: drop-shadow(0px 1px 2px rgba(0, 0, 0, 0.3));\n",
              "        fill: #FFFFFF;\n",
              "      }\n",
              "    </style>\n",
              "    <button class=\"colab-df-generate\" onclick=\"generateWithVariable('summary_with_customerid')\"\n",
              "            title=\"Generate code using this dataframe.\"\n",
              "            style=\"display:none;\">\n",
              "\n",
              "  <svg xmlns=\"http://www.w3.org/2000/svg\" height=\"24px\"viewBox=\"0 0 24 24\"\n",
              "       width=\"24px\">\n",
              "    <path d=\"M7,19H8.4L18.45,9,17,7.55,7,17.6ZM5,21V16.75L18.45,3.32a2,2,0,0,1,2.83,0l1.4,1.43a1.91,1.91,0,0,1,.58,1.4,1.91,1.91,0,0,1-.58,1.4L9.25,21ZM18.45,9,17,7.55Zm-12,3A5.31,5.31,0,0,0,4.9,8.1,5.31,5.31,0,0,0,1,6.5,5.31,5.31,0,0,0,4.9,4.9,5.31,5.31,0,0,0,6.5,1,5.31,5.31,0,0,0,8.1,4.9,5.31,5.31,0,0,0,12,6.5,5.46,5.46,0,0,0,6.5,12Z\"/>\n",
              "  </svg>\n",
              "    </button>\n",
              "    <script>\n",
              "      (() => {\n",
              "      const buttonEl =\n",
              "        document.querySelector('#id_70555252-d449-4a8b-a03a-0d6b437884c6 button.colab-df-generate');\n",
              "      buttonEl.style.display =\n",
              "        google.colab.kernel.accessAllowed ? 'block' : 'none';\n",
              "\n",
              "      buttonEl.onclick = () => {\n",
              "        google.colab.notebook.generateWithVariable('summary_with_customerid');\n",
              "      }\n",
              "      })();\n",
              "    </script>\n",
              "  </div>\n",
              "\n",
              "    </div>\n",
              "  </div>\n"
            ],
            "application/vnd.google.colaboratory.intrinsic+json": {
              "type": "dataframe",
              "variable_name": "summary_with_customerid",
              "summary": "{\n  \"name\": \"summary_with_customerid\",\n  \"rows\": 8,\n  \"fields\": [\n    {\n      \"column\": \"Order ID\",\n      \"properties\": {\n        \"dtype\": \"number\",\n        \"std\": 462.07106116360274,\n        \"min\": 4.760952285695233,\n        \"max\": 1016.0,\n        \"num_unique_values\": 7,\n        \"samples\": [\n          16.0,\n          1008.5,\n          1016.0\n        ],\n        \"semantic_type\": \"\",\n        \"description\": \"\"\n      }\n    },\n    {\n      \"column\": \"Order Date\",\n      \"properties\": {\n        \"dtype\": \"date\",\n        \"min\": \"1970-01-01 00:00:00.000000016\",\n        \"max\": \"2024-12-08 00:00:00\",\n        \"num_unique_values\": 6,\n        \"samples\": [\n          \"16\",\n          \"2024-12-04 12:00:00\",\n          \"2024-12-08 00:00:00\"\n        ],\n        \"semantic_type\": \"\",\n        \"description\": \"\"\n      }\n    },\n    {\n      \"column\": \"Amount (USD)\",\n      \"properties\": {\n        \"dtype\": \"number\",\n        \"std\": 4.44440188768992,\n        \"min\": 2.4358434541926814,\n        \"max\": 16.0,\n        \"num_unique_values\": 8,\n        \"samples\": [\n          11.25,\n          13.125,\n          16.0\n        ],\n        \"semantic_type\": \"\",\n        \"description\": \"\"\n      }\n    },\n    {\n      \"column\": \"Rating\",\n      \"properties\": {\n        \"dtype\": \"number\",\n        \"std\": 3.8743219544463003,\n        \"min\": 0.4688072309384954,\n        \"max\": 14.0,\n        \"num_unique_values\": 6,\n        \"samples\": [\n          14.0,\n          4.285714285714286,\n          0.4688072309384954\n        ],\n        \"semantic_type\": \"\",\n        \"description\": \"\"\n      }\n    },\n    {\n      \"column\": \"Total Order\",\n      \"properties\": {\n        \"dtype\": \"number\",\n        \"std\": 4.534128102930079,\n        \"min\": 3.1191612120354835,\n        \"max\": 16.0,\n        \"num_unique_values\": 8,\n        \"samples\": [\n          10.5625,\n          12.5,\n          16.0\n        ],\n        \"semantic_type\": \"\",\n        \"description\": \"\"\n      }\n    },\n    {\n      \"column\": \" \",\n      \"properties\": {\n        \"dtype\": \"number\",\n        \"std\": null,\n        \"min\": 0.0,\n        \"max\": 0.0,\n        \"num_unique_values\": 1,\n        \"samples\": [\n          0.0\n        ],\n        \"semantic_type\": \"\",\n        \"description\": \"\"\n      }\n    },\n    {\n      \"column\": \" .1\",\n      \"properties\": {\n        \"dtype\": \"number\",\n        \"std\": null,\n        \"min\": 0.0,\n        \"max\": 0.0,\n        \"num_unique_values\": 1,\n        \"samples\": [\n          0.0\n        ],\n        \"semantic_type\": \"\",\n        \"description\": \"\"\n      }\n    },\n    {\n      \"column\": \" .2\",\n      \"properties\": {\n        \"dtype\": \"number\",\n        \"std\": null,\n        \"min\": 0.0,\n        \"max\": 0.0,\n        \"num_unique_values\": 1,\n        \"samples\": [\n          0.0\n        ],\n        \"semantic_type\": \"\",\n        \"description\": \"\"\n      }\n    },\n    {\n      \"column\": \" .3\",\n      \"properties\": {\n        \"dtype\": \"number\",\n        \"std\": null,\n        \"min\": 0.0,\n        \"max\": 0.0,\n        \"num_unique_values\": 1,\n        \"samples\": [\n          0.0\n        ],\n        \"semantic_type\": \"\",\n        \"description\": \"\"\n      }\n    },\n    {\n      \"column\": \" .4\",\n      \"properties\": {\n        \"dtype\": \"number\",\n        \"std\": null,\n        \"min\": 0.0,\n        \"max\": 0.0,\n        \"num_unique_values\": 1,\n        \"samples\": [\n          0.0\n        ],\n        \"semantic_type\": \"\",\n        \"description\": \"\"\n      }\n    },\n    {\n      \"column\": \" .5\",\n      \"properties\": {\n        \"dtype\": \"number\",\n        \"std\": null,\n        \"min\": 0.0,\n        \"max\": 0.0,\n        \"num_unique_values\": 1,\n        \"samples\": [\n          0.0\n        ],\n        \"semantic_type\": \"\",\n        \"description\": \"\"\n      }\n    },\n    {\n      \"column\": \" .6\",\n      \"properties\": {\n        \"dtype\": \"number\",\n        \"std\": null,\n        \"min\": 0.0,\n        \"max\": 0.0,\n        \"num_unique_values\": 1,\n        \"samples\": [\n          0.0\n        ],\n        \"semantic_type\": \"\",\n        \"description\": \"\"\n      }\n    },\n    {\n      \"column\": \" .7\",\n      \"properties\": {\n        \"dtype\": \"number\",\n        \"std\": null,\n        \"min\": 0.0,\n        \"max\": 0.0,\n        \"num_unique_values\": 1,\n        \"samples\": [\n          0.0\n        ],\n        \"semantic_type\": \"\",\n        \"description\": \"\"\n      }\n    },\n    {\n      \"column\": \" .8\",\n      \"properties\": {\n        \"dtype\": \"number\",\n        \"std\": null,\n        \"min\": 0.0,\n        \"max\": 0.0,\n        \"num_unique_values\": 1,\n        \"samples\": [\n          0.0\n        ],\n        \"semantic_type\": \"\",\n        \"description\": \"\"\n      }\n    },\n    {\n      \"column\": \" .9\",\n      \"properties\": {\n        \"dtype\": \"number\",\n        \"std\": null,\n        \"min\": 0.0,\n        \"max\": 0.0,\n        \"num_unique_values\": 1,\n        \"samples\": [\n          0.0\n        ],\n        \"semantic_type\": \"\",\n        \"description\": \"\"\n      }\n    },\n    {\n      \"column\": \" .10\",\n      \"properties\": {\n        \"dtype\": \"number\",\n        \"std\": null,\n        \"min\": 0.0,\n        \"max\": 0.0,\n        \"num_unique_values\": 1,\n        \"samples\": [\n          0.0\n        ],\n        \"semantic_type\": \"\",\n        \"description\": \"\"\n      }\n    },\n    {\n      \"column\": \" .11\",\n      \"properties\": {\n        \"dtype\": \"number\",\n        \"std\": null,\n        \"min\": 0.0,\n        \"max\": 0.0,\n        \"num_unique_values\": 1,\n        \"samples\": [\n          0.0\n        ],\n        \"semantic_type\": \"\",\n        \"description\": \"\"\n      }\n    },\n    {\n      \"column\": \" .12\",\n      \"properties\": {\n        \"dtype\": \"number\",\n        \"std\": null,\n        \"min\": 0.0,\n        \"max\": 0.0,\n        \"num_unique_values\": 1,\n        \"samples\": [\n          0.0\n        ],\n        \"semantic_type\": \"\",\n        \"description\": \"\"\n      }\n    },\n    {\n      \"column\": \" .13\",\n      \"properties\": {\n        \"dtype\": \"number\",\n        \"std\": null,\n        \"min\": 0.0,\n        \"max\": 0.0,\n        \"num_unique_values\": 1,\n        \"samples\": [\n          0.0\n        ],\n        \"semantic_type\": \"\",\n        \"description\": \"\"\n      }\n    }\n  ]\n}"
            }
          },
          "metadata": {},
          "execution_count": 337
        }
      ]
    },
    {
      "cell_type": "markdown",
      "source": [
        "Univariate Analysis"
      ],
      "metadata": {
        "id": "Eu4VzKfgB30I"
      }
    },
    {
      "cell_type": "code",
      "source": [
        " fig, axes = plt.subplots(2, 2, figsize=(13, 8))\n",
        "\n",
        " # Univariate analysis for Favourite Meal\n",
        "sns.histplot(dfUD['Favorite Meal'], bins=20, kde=True, ax=axes[0, 0])\n",
        "axes[0, 0].set_title('Favorite Meal Amongst Our Customers')\n",
        "\n",
        "# Univariate analysis for UserID\n",
        "\n",
        "sns.histplot(dfCS['User ID'], bins=20, kde=True, ax=axes[0, 1])\n",
        "axes[0, 1].set_title('User Id with highest Sessions')\n",
        "\n",
        "# Univariate analysis for Favourite Meal\n",
        "top_categories = dfCS['Dish Name'].value_counts().head(17).index\n",
        "sns.countplot(data=dfCS[dfCS['Dish Name'].isin(top_categories)], y='Dish Name', order=top_categories, ax=axes[1, 0])\n",
        "axes[1, 0].set_title('Favorite Dish Amongst Our Users')\n",
        "\n",
        "# Univariate analysis for Highest Order\n",
        "top_categories = dfOD['User ID'].value_counts().head(17).index\n",
        "sns.countplot(data=dfCS[dfCS['User ID'].isin(top_categories)], y='User ID', order=top_categories, ax=axes[1, 1])\n",
        "axes[1, 1].set_title('User with Maximum No. Of Orders')\n",
        "\n",
        "plt.tight_layout()\n",
        "plt.show()"
      ],
      "metadata": {
        "colab": {
          "base_uri": "https://localhost:8080/",
          "height": 807
        },
        "id": "4IHgGqU68ocw",
        "outputId": "f15aefde-8ce5-42d4-d341-c16859c9c4bb"
      },
      "execution_count": 338,
      "outputs": [
        {
          "output_type": "display_data",
          "data": {
            "text/plain": [
              "<Figure size 1300x800 with 4 Axes>"
            ],
            "image/png": "[encoded data removed]"
          },
          "metadata": {}
        }
      ]
    },
    {
      "cell_type": "markdown",
      "source": [
        "Bivariate Analysis\n",
        "\n",
        "Exploring the relationship between 'Sessions' and 'Dish' using a scatter plot"
      ],
      "metadata": {
        "id": "cF2j7pALM-YZ"
      }
    },
    {
      "cell_type": "code",
      "source": [
        "plt.figure(figsize=(10, 6))\n",
        "top_items = dfOD['Dish Name'].value_counts().head(17)\n",
        "sns.barplot(x=top_items.values, y=top_items.index, palette='magma')\n",
        "plt.title('Top Sellers')\n",
        "plt.xlabel('Number of Times Sold')\n",
        "plt.ylabel('Dish Name')\n",
        "plt.show()"
      ],
      "metadata": {
        "colab": {
          "base_uri": "https://localhost:8080/",
          "height": 651
        },
        "id": "CQpRGz2WHqAg",
        "outputId": "8b6d46fa-ad38-4695-92ed-5b57fddd603c"
      },
      "execution_count": 344,
      "outputs": [
        {
          "output_type": "stream",
          "name": "stderr",
          "text": [
            "<ipython-input-344-eaf0db220bc5>:3: FutureWarning: \n",
            "\n",
            "Passing `palette` without assigning `hue` is deprecated and will be removed in v0.14.0. Assign the `y` variable to `hue` and set `legend=False` for the same effect.\n",
            "\n",
            "  sns.barplot(x=top_items.values, y=top_items.index, palette='magma')\n"
          ]
        },
        {
          "output_type": "display_data",
          "data": {
            "text/plain": [
              "<Figure size 1000x600 with 1 Axes>"
            ],
            "image/png": "[encoded data removed]"
          },
          "metadata": {}
        }
      ]
    },
    {
      "cell_type": "code",
      "source": [
        "sns.relplot(x='Order ID', y='User ID', data=dfOD, hue='Order Status')"
      ],
      "metadata": {
        "colab": {
          "base_uri": "https://localhost:8080/",
          "height": 524
        },
        "id": "ZUYgWlOJXK-j",
        "outputId": "5f1e0e3c-29bf-4160-b0bb-995a391d8273"
      },
      "execution_count": 340,
      "outputs": [
        {
          "output_type": "execute_result",
          "data": {
            "text/plain": [
              "<seaborn.axisgrid.FacetGrid at 0x7dac0459e380>"
            ]
          },
          "metadata": {},
          "execution_count": 340
        },
        {
          "output_type": "display_data",
          "data": {
            "text/plain": [
              "<Figure size 625.875x500 with 1 Axes>"
            ],
            "image/png": "[encoded data removed]"
          },
          "metadata": {}
        }
      ]
    },
    {
      "cell_type": "code",
      "source": [
        "sns.relplot(x='Order ID', y='Time of Day', data=dfOD, hue='User ID')"
      ],
      "metadata": {
        "colab": {
          "base_uri": "https://localhost:8080/",
          "height": 524
        },
        "id": "71OwoNo9iD3o",
        "outputId": "74873578-5254-4398-e834-5166f09aab57"
      },
      "execution_count": 341,
      "outputs": [
        {
          "output_type": "execute_result",
          "data": {
            "text/plain": [
              "<seaborn.axisgrid.FacetGrid at 0x7dac049861d0>"
            ]
          },
          "metadata": {},
          "execution_count": 341
        },
        {
          "output_type": "display_data",
          "data": {
            "text/plain": [
              "<Figure size 586.5x500 with 1 Axes>"
            ],
            "image/png": "[encoded data removed]"
          },
          "metadata": {}
        }
      ]
    },
    {
      "cell_type": "code",
      "source": [
        "sns.relplot(x='Order ID', y='User ID', data=dfOD, hue='Order Status')"
      ],
      "metadata": {
        "id": "ndp8hPBTf7sX",
        "colab": {
          "base_uri": "https://localhost:8080/",
          "height": 524
        },
        "outputId": "372ec1c5-1f0c-440a-88ad-b52387d8a2e5"
      },
      "execution_count": 342,
      "outputs": [
        {
          "output_type": "execute_result",
          "data": {
            "text/plain": [
              "<seaborn.axisgrid.FacetGrid at 0x7dac054ddb10>"
            ]
          },
          "metadata": {},
          "execution_count": 342
        },
        {
          "output_type": "display_data",
          "data": {
            "text/plain": [
              "<Figure size 625.875x500 with 1 Axes>"
            ],
            "image/png": "[encoded data removed]"
          },
          "metadata": {}
        }
      ]
    },
    {
      "cell_type": "code",
      "source": [
        "plt.figure(figsize=(10, 6))\n",
        "location = dfOD['Location'].value_counts().head(10)\n",
        "sns.barplot(x=location.values, y=location.index, palette='viridis')\n",
        "plt.title('Sales as per Location')\n",
        "plt.xlabel('Number of Orders')\n",
        "plt.ylabel('Location')\n",
        "plt.show()"
      ],
      "metadata": {
        "colab": {
          "base_uri": "https://localhost:8080/",
          "height": 651
        },
        "id": "Pc7WfiPR2jpY",
        "outputId": "fbf518c2-8e8c-4e2a-b759-c14a70a69f44"
      },
      "execution_count": 345,
      "outputs": [
        {
          "output_type": "stream",
          "name": "stderr",
          "text": [
            "<ipython-input-345-77bfdda7b686>:3: FutureWarning: \n",
            "\n",
            "Passing `palette` without assigning `hue` is deprecated and will be removed in v0.14.0. Assign the `y` variable to `hue` and set `legend=False` for the same effect.\n",
            "\n",
            "  sns.barplot(x=location.values, y=location.index, palette='viridis')\n"
          ]
        },
        {
          "output_type": "display_data",
          "data": {
            "text/plain": [
              "<Figure size 1000x600 with 1 Axes>"
            ],
            "image/png": "[encoded data removed]"
          },
          "metadata": {}
        }
      ]
    },
    {
      "cell_type": "code",
      "source": [],
      "metadata": {
        "id": "MW9y-0zQ3aAB"
      },
      "execution_count": 343,
      "outputs": []
    }
  ]
}